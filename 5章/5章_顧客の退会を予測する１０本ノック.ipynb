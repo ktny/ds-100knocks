{
 "cells": [
  {
   "cell_type": "markdown",
   "metadata": {},
   "source": [
    "# 5章 顧客の退会を予測する１０本ノック\n",
    "\n",
    "引き続き、スポーツジムの会員データを使って顧客の行動を分析していきます。  \n",
    "３章では顧客の全体像を把握し、4章では数ヶ月利用している顧客の来月の利用回数の予測を行いました。   \n",
    "ここでは、教師あり学習の分類を用いて、顧客の退会予測を取り扱います。"
   ]
  },
  {
   "cell_type": "markdown",
   "metadata": {},
   "source": [
    "### ノック41：データを読み込んで利用データを整形しよう"
   ]
  },
  {
   "cell_type": "code",
   "execution_count": 114,
   "metadata": {
    "tags": []
   },
   "outputs": [
    {
     "output_type": "stream",
     "name": "stdout",
     "text": "customer_id   name class  ... routine_flg   calc_date membership_period\n0       OA832399   XXXX   C01  ...           1  2019-04-30                47\n1       PL270116  XXXXX   C01  ...           1  2019-04-30                47\n2       OA974876  XXXXX   C01  ...           1  2019-04-30                47\n3       HD024127  XXXXX   C01  ...           1  2019-04-30                47\n4       HD661448  XXXXX   C03  ...           1  2019-04-30                47\n...          ...    ...   ...  ...         ...         ...               ...\n4187    HD676663   XXXX   C01  ...           0  2019-04-30                 1\n4188    HD246549  XXXXX   C01  ...           0  2019-04-30                 1\n4189    GD037007  XXXXX   C03  ...           0  2019-04-30                 1\n4190    OA953150  XXXXX   C01  ...           0  2019-04-30                 1\n4191    IK692635  XXXXX   C02  ...           0  2019-04-30                 1\n\n[4192 rows x 18 columns]\n           年月 customer_id  count\n0      201804    AS002855      4\n1      201804    AS009013      2\n2      201804    AS009373      3\n3      201804    AS015315      6\n4      201804    AS015739      7\n...       ...         ...    ...\n36837  201903    TS995853      8\n36838  201903    TS998593      8\n36839  201903    TS999079      3\n36840  201903    TS999231      6\n36841  201903    TS999855      4\n\n[36842 rows x 3 columns]\n"
    }
   ],
   "source": [
    "import pandas as pd\n",
    "customer = pd.read_csv('customer_join.csv')\n",
    "print(customer)\n",
    "uselog_months = pd.read_csv('use_log_months.csv')\n",
    "print(uselog_months)"
   ]
  },
  {
   "cell_type": "code",
   "execution_count": 115,
   "metadata": {
    "tags": []
   },
   "outputs": [
    {
     "output_type": "stream",
     "name": "stdout",
     "text": "[201804, 201805, 201806, 201807, 201808, 201809, 201810, 201811, 201812, 201901, 201902, 201903]\n"
    },
    {
     "output_type": "execute_result",
     "data": {
      "text/plain": "           年月 customer_id  count_0  count_1\n0      201805    AS002855        5      4.0\n1      201805    AS009373        4      3.0\n2      201805    AS015233        7      NaN\n3      201805    AS015315        3      6.0\n4      201805    AS015739        5      7.0\n...       ...         ...      ...      ...\n33846  201903    TS995853        8     11.0\n33847  201903    TS998593        8      7.0\n33848  201903    TS999079        3      2.0\n33849  201903    TS999231        6      6.0\n33850  201903    TS999855        4      4.0\n\n[33851 rows x 4 columns]",
      "text/html": "<div>\n<style scoped>\n    .dataframe tbody tr th:only-of-type {\n        vertical-align: middle;\n    }\n\n    .dataframe tbody tr th {\n        vertical-align: top;\n    }\n\n    .dataframe thead th {\n        text-align: right;\n    }\n</style>\n<table border=\"1\" class=\"dataframe\">\n  <thead>\n    <tr style=\"text-align: right;\">\n      <th></th>\n      <th>年月</th>\n      <th>customer_id</th>\n      <th>count_0</th>\n      <th>count_1</th>\n    </tr>\n  </thead>\n  <tbody>\n    <tr>\n      <th>0</th>\n      <td>201805</td>\n      <td>AS002855</td>\n      <td>5</td>\n      <td>4.0</td>\n    </tr>\n    <tr>\n      <th>1</th>\n      <td>201805</td>\n      <td>AS009373</td>\n      <td>4</td>\n      <td>3.0</td>\n    </tr>\n    <tr>\n      <th>2</th>\n      <td>201805</td>\n      <td>AS015233</td>\n      <td>7</td>\n      <td>NaN</td>\n    </tr>\n    <tr>\n      <th>3</th>\n      <td>201805</td>\n      <td>AS015315</td>\n      <td>3</td>\n      <td>6.0</td>\n    </tr>\n    <tr>\n      <th>4</th>\n      <td>201805</td>\n      <td>AS015739</td>\n      <td>5</td>\n      <td>7.0</td>\n    </tr>\n    <tr>\n      <th>...</th>\n      <td>...</td>\n      <td>...</td>\n      <td>...</td>\n      <td>...</td>\n    </tr>\n    <tr>\n      <th>33846</th>\n      <td>201903</td>\n      <td>TS995853</td>\n      <td>8</td>\n      <td>11.0</td>\n    </tr>\n    <tr>\n      <th>33847</th>\n      <td>201903</td>\n      <td>TS998593</td>\n      <td>8</td>\n      <td>7.0</td>\n    </tr>\n    <tr>\n      <th>33848</th>\n      <td>201903</td>\n      <td>TS999079</td>\n      <td>3</td>\n      <td>2.0</td>\n    </tr>\n    <tr>\n      <th>33849</th>\n      <td>201903</td>\n      <td>TS999231</td>\n      <td>6</td>\n      <td>6.0</td>\n    </tr>\n    <tr>\n      <th>33850</th>\n      <td>201903</td>\n      <td>TS999855</td>\n      <td>4</td>\n      <td>4.0</td>\n    </tr>\n  </tbody>\n</table>\n<p>33851 rows × 4 columns</p>\n</div>"
     },
     "metadata": {},
     "execution_count": 115
    }
   ],
   "source": [
    "year_months = list(uselog_months['年月'].unique())\n",
    "print(year_months)\n",
    "uselog = pd.DataFrame()\n",
    "\n",
    "for i in range(1, len(year_months)):\n",
    "    tmp = uselog_months.loc[uselog_months['年月'] == year_months[i]]\n",
    "    tmp.rename(columns={'count': 'count_0'}, inplace=True)\n",
    "    tmp_before = uselog_months.loc[uselog_months['年月'] == year_months[i-1]]\n",
    "    del tmp_before['年月']\n",
    "    tmp_before.rename(columns={'count': 'count_1'}, inplace=True)\n",
    "    tmp = pd.merge(tmp, tmp_before, on='customer_id', how='left')\n",
    "    uselog = pd.concat([uselog, tmp], ignore_index=True)\n",
    "\n",
    "uselog\n",
    "\n"
   ]
  },
  {
   "cell_type": "markdown",
   "metadata": {},
   "source": [
    "### ノック42：退会前月の退会顧客データを作成しよう"
   ]
  },
  {
   "cell_type": "code",
   "execution_count": 116,
   "metadata": {
    "tags": []
   },
   "outputs": [
    {
     "output_type": "stream",
     "name": "stdout",
     "text": "33851\n"
    },
    {
     "output_type": "execute_result",
     "data": {
      "text/plain": "           年月 customer_id  count_0  ...  calc_date membership_period exit_date\n0      201805    AS002855        5  ...        NaN               NaN       NaN\n1      201805    AS009373        4  ...        NaN               NaN       NaN\n2      201805    AS015233        7  ...        NaN               NaN       NaN\n3      201805    AS015315        3  ...        NaN               NaN       NaN\n4      201805    AS015739        5  ...        NaN               NaN       NaN\n...       ...         ...      ...  ...        ...               ...       ...\n33846  201903    TS995853        8  ...        NaN               NaN       NaN\n33847  201903    TS998593        8  ...        NaN               NaN       NaN\n33848  201903    TS999079        3  ...        NaN               NaN       NaN\n33849  201903    TS999231        6  ...        NaN               NaN       NaN\n33850  201903    TS999855        4  ...        NaN               NaN       NaN\n\n[33851 rows x 22 columns]",
      "text/html": "<div>\n<style scoped>\n    .dataframe tbody tr th:only-of-type {\n        vertical-align: middle;\n    }\n\n    .dataframe tbody tr th {\n        vertical-align: top;\n    }\n\n    .dataframe thead th {\n        text-align: right;\n    }\n</style>\n<table border=\"1\" class=\"dataframe\">\n  <thead>\n    <tr style=\"text-align: right;\">\n      <th></th>\n      <th>年月</th>\n      <th>customer_id</th>\n      <th>count_0</th>\n      <th>count_1</th>\n      <th>name</th>\n      <th>class</th>\n      <th>gender</th>\n      <th>start_date</th>\n      <th>end_date</th>\n      <th>campaign_id</th>\n      <th>is_deleted</th>\n      <th>class_name</th>\n      <th>price</th>\n      <th>campaign_name</th>\n      <th>mean</th>\n      <th>median</th>\n      <th>max</th>\n      <th>min</th>\n      <th>routine_flg</th>\n      <th>calc_date</th>\n      <th>membership_period</th>\n      <th>exit_date</th>\n    </tr>\n  </thead>\n  <tbody>\n    <tr>\n      <th>0</th>\n      <td>201805</td>\n      <td>AS002855</td>\n      <td>5</td>\n      <td>4.0</td>\n      <td>NaN</td>\n      <td>NaN</td>\n      <td>NaN</td>\n      <td>NaN</td>\n      <td>NaT</td>\n      <td>NaN</td>\n      <td>NaN</td>\n      <td>NaN</td>\n      <td>NaN</td>\n      <td>NaN</td>\n      <td>NaN</td>\n      <td>NaN</td>\n      <td>NaN</td>\n      <td>NaN</td>\n      <td>NaN</td>\n      <td>NaN</td>\n      <td>NaN</td>\n      <td>NaN</td>\n    </tr>\n    <tr>\n      <th>1</th>\n      <td>201805</td>\n      <td>AS009373</td>\n      <td>4</td>\n      <td>3.0</td>\n      <td>NaN</td>\n      <td>NaN</td>\n      <td>NaN</td>\n      <td>NaN</td>\n      <td>NaT</td>\n      <td>NaN</td>\n      <td>NaN</td>\n      <td>NaN</td>\n      <td>NaN</td>\n      <td>NaN</td>\n      <td>NaN</td>\n      <td>NaN</td>\n      <td>NaN</td>\n      <td>NaN</td>\n      <td>NaN</td>\n      <td>NaN</td>\n      <td>NaN</td>\n      <td>NaN</td>\n    </tr>\n    <tr>\n      <th>2</th>\n      <td>201805</td>\n      <td>AS015233</td>\n      <td>7</td>\n      <td>NaN</td>\n      <td>NaN</td>\n      <td>NaN</td>\n      <td>NaN</td>\n      <td>NaN</td>\n      <td>NaT</td>\n      <td>NaN</td>\n      <td>NaN</td>\n      <td>NaN</td>\n      <td>NaN</td>\n      <td>NaN</td>\n      <td>NaN</td>\n      <td>NaN</td>\n      <td>NaN</td>\n      <td>NaN</td>\n      <td>NaN</td>\n      <td>NaN</td>\n      <td>NaN</td>\n      <td>NaN</td>\n    </tr>\n    <tr>\n      <th>3</th>\n      <td>201805</td>\n      <td>AS015315</td>\n      <td>3</td>\n      <td>6.0</td>\n      <td>NaN</td>\n      <td>NaN</td>\n      <td>NaN</td>\n      <td>NaN</td>\n      <td>NaT</td>\n      <td>NaN</td>\n      <td>NaN</td>\n      <td>NaN</td>\n      <td>NaN</td>\n      <td>NaN</td>\n      <td>NaN</td>\n      <td>NaN</td>\n      <td>NaN</td>\n      <td>NaN</td>\n      <td>NaN</td>\n      <td>NaN</td>\n      <td>NaN</td>\n      <td>NaN</td>\n    </tr>\n    <tr>\n      <th>4</th>\n      <td>201805</td>\n      <td>AS015739</td>\n      <td>5</td>\n      <td>7.0</td>\n      <td>NaN</td>\n      <td>NaN</td>\n      <td>NaN</td>\n      <td>NaN</td>\n      <td>NaT</td>\n      <td>NaN</td>\n      <td>NaN</td>\n      <td>NaN</td>\n      <td>NaN</td>\n      <td>NaN</td>\n      <td>NaN</td>\n      <td>NaN</td>\n      <td>NaN</td>\n      <td>NaN</td>\n      <td>NaN</td>\n      <td>NaN</td>\n      <td>NaN</td>\n      <td>NaN</td>\n    </tr>\n    <tr>\n      <th>...</th>\n      <td>...</td>\n      <td>...</td>\n      <td>...</td>\n      <td>...</td>\n      <td>...</td>\n      <td>...</td>\n      <td>...</td>\n      <td>...</td>\n      <td>...</td>\n      <td>...</td>\n      <td>...</td>\n      <td>...</td>\n      <td>...</td>\n      <td>...</td>\n      <td>...</td>\n      <td>...</td>\n      <td>...</td>\n      <td>...</td>\n      <td>...</td>\n      <td>...</td>\n      <td>...</td>\n      <td>...</td>\n    </tr>\n    <tr>\n      <th>33846</th>\n      <td>201903</td>\n      <td>TS995853</td>\n      <td>8</td>\n      <td>11.0</td>\n      <td>NaN</td>\n      <td>NaN</td>\n      <td>NaN</td>\n      <td>NaN</td>\n      <td>NaT</td>\n      <td>NaN</td>\n      <td>NaN</td>\n      <td>NaN</td>\n      <td>NaN</td>\n      <td>NaN</td>\n      <td>NaN</td>\n      <td>NaN</td>\n      <td>NaN</td>\n      <td>NaN</td>\n      <td>NaN</td>\n      <td>NaN</td>\n      <td>NaN</td>\n      <td>NaN</td>\n    </tr>\n    <tr>\n      <th>33847</th>\n      <td>201903</td>\n      <td>TS998593</td>\n      <td>8</td>\n      <td>7.0</td>\n      <td>NaN</td>\n      <td>NaN</td>\n      <td>NaN</td>\n      <td>NaN</td>\n      <td>NaT</td>\n      <td>NaN</td>\n      <td>NaN</td>\n      <td>NaN</td>\n      <td>NaN</td>\n      <td>NaN</td>\n      <td>NaN</td>\n      <td>NaN</td>\n      <td>NaN</td>\n      <td>NaN</td>\n      <td>NaN</td>\n      <td>NaN</td>\n      <td>NaN</td>\n      <td>NaN</td>\n    </tr>\n    <tr>\n      <th>33848</th>\n      <td>201903</td>\n      <td>TS999079</td>\n      <td>3</td>\n      <td>2.0</td>\n      <td>NaN</td>\n      <td>NaN</td>\n      <td>NaN</td>\n      <td>NaN</td>\n      <td>NaT</td>\n      <td>NaN</td>\n      <td>NaN</td>\n      <td>NaN</td>\n      <td>NaN</td>\n      <td>NaN</td>\n      <td>NaN</td>\n      <td>NaN</td>\n      <td>NaN</td>\n      <td>NaN</td>\n      <td>NaN</td>\n      <td>NaN</td>\n      <td>NaN</td>\n      <td>NaN</td>\n    </tr>\n    <tr>\n      <th>33849</th>\n      <td>201903</td>\n      <td>TS999231</td>\n      <td>6</td>\n      <td>6.0</td>\n      <td>NaN</td>\n      <td>NaN</td>\n      <td>NaN</td>\n      <td>NaN</td>\n      <td>NaT</td>\n      <td>NaN</td>\n      <td>NaN</td>\n      <td>NaN</td>\n      <td>NaN</td>\n      <td>NaN</td>\n      <td>NaN</td>\n      <td>NaN</td>\n      <td>NaN</td>\n      <td>NaN</td>\n      <td>NaN</td>\n      <td>NaN</td>\n      <td>NaN</td>\n      <td>NaN</td>\n    </tr>\n    <tr>\n      <th>33850</th>\n      <td>201903</td>\n      <td>TS999855</td>\n      <td>4</td>\n      <td>4.0</td>\n      <td>NaN</td>\n      <td>NaN</td>\n      <td>NaN</td>\n      <td>NaN</td>\n      <td>NaT</td>\n      <td>NaN</td>\n      <td>NaN</td>\n      <td>NaN</td>\n      <td>NaN</td>\n      <td>NaN</td>\n      <td>NaN</td>\n      <td>NaN</td>\n      <td>NaN</td>\n      <td>NaN</td>\n      <td>NaN</td>\n      <td>NaN</td>\n      <td>NaN</td>\n      <td>NaN</td>\n    </tr>\n  </tbody>\n</table>\n<p>33851 rows × 22 columns</p>\n</div>"
     },
     "metadata": {},
     "execution_count": 116
    }
   ],
   "source": [
    "from dateutil.relativedelta import relativedelta\n",
    "exit_customer = customer.loc[customer['is_deleted'] == 1]\n",
    "exit_customer['exit_date'] = None\n",
    "exit_customer['end_date'] = pd.to_datetime(exit_customer['end_date'])\n",
    "for i in range(len(exit_customer)):\n",
    "    exit_customer['exit_date'].iloc[i] = exit_customer['end_date'].iloc[i] - relativedelta(months=1)\n",
    "exit_customer['年月'] = exit_customer['exit_date'].dt.strftime('%Y%m')\n",
    "uselog['年月'] = uselog['年月'].astype(str)\n",
    "exit_uselog = pd.merge(uselog, exit_customer, on=['customer_id', '年月'], how='left')\n",
    "print(len(uselog))\n",
    "exit_uselog"
   ]
  },
  {
   "cell_type": "code",
   "execution_count": 117,
   "metadata": {},
   "outputs": [
    {
     "output_type": "execute_result",
     "data": {
      "text/plain": "           年月 customer_id  ...  membership_period            exit_date\n19     201805    AS055680  ...                3.0  2018-05-30 00:00:00\n57     201805    AS169823  ...                7.0  2018-05-30 00:00:00\n110    201805    AS305860  ...               12.0  2018-05-30 00:00:00\n128    201805    AS363699  ...                4.0  2018-05-30 00:00:00\n147    201805    AS417696  ...                9.0  2018-05-30 00:00:00\n...       ...         ...  ...                ...                  ...\n30758  201902    TS645212  ...               12.0  2019-02-28 00:00:00\n30787  201902    TS741703  ...                3.0  2019-02-28 00:00:00\n30827  201902    TS859258  ...                3.0  2019-02-28 00:00:00\n30842  201902    TS886985  ...               12.0  2019-02-28 00:00:00\n30852  201902    TS921837  ...                9.0  2019-02-28 00:00:00\n\n[1104 rows x 22 columns]",
      "text/html": "<div>\n<style scoped>\n    .dataframe tbody tr th:only-of-type {\n        vertical-align: middle;\n    }\n\n    .dataframe tbody tr th {\n        vertical-align: top;\n    }\n\n    .dataframe thead th {\n        text-align: right;\n    }\n</style>\n<table border=\"1\" class=\"dataframe\">\n  <thead>\n    <tr style=\"text-align: right;\">\n      <th></th>\n      <th>年月</th>\n      <th>customer_id</th>\n      <th>count_0</th>\n      <th>count_1</th>\n      <th>name</th>\n      <th>class</th>\n      <th>gender</th>\n      <th>start_date</th>\n      <th>end_date</th>\n      <th>campaign_id</th>\n      <th>is_deleted</th>\n      <th>class_name</th>\n      <th>price</th>\n      <th>campaign_name</th>\n      <th>mean</th>\n      <th>median</th>\n      <th>max</th>\n      <th>min</th>\n      <th>routine_flg</th>\n      <th>calc_date</th>\n      <th>membership_period</th>\n      <th>exit_date</th>\n    </tr>\n  </thead>\n  <tbody>\n    <tr>\n      <th>19</th>\n      <td>201805</td>\n      <td>AS055680</td>\n      <td>3</td>\n      <td>3.0</td>\n      <td>XXXXX</td>\n      <td>C01</td>\n      <td>M</td>\n      <td>2018-03-01</td>\n      <td>2018-06-30</td>\n      <td>CA1</td>\n      <td>1.0</td>\n      <td>オールタイム</td>\n      <td>10500.0</td>\n      <td>通常</td>\n      <td>3.000000</td>\n      <td>3.0</td>\n      <td>3.0</td>\n      <td>3.0</td>\n      <td>0.0</td>\n      <td>2018-06-30</td>\n      <td>3.0</td>\n      <td>2018-05-30 00:00:00</td>\n    </tr>\n    <tr>\n      <th>57</th>\n      <td>201805</td>\n      <td>AS169823</td>\n      <td>2</td>\n      <td>3.0</td>\n      <td>XX</td>\n      <td>C01</td>\n      <td>M</td>\n      <td>2017-11-01</td>\n      <td>2018-06-30</td>\n      <td>CA1</td>\n      <td>1.0</td>\n      <td>オールタイム</td>\n      <td>10500.0</td>\n      <td>通常</td>\n      <td>3.000000</td>\n      <td>3.0</td>\n      <td>4.0</td>\n      <td>2.0</td>\n      <td>1.0</td>\n      <td>2018-06-30</td>\n      <td>7.0</td>\n      <td>2018-05-30 00:00:00</td>\n    </tr>\n    <tr>\n      <th>110</th>\n      <td>201805</td>\n      <td>AS305860</td>\n      <td>5</td>\n      <td>3.0</td>\n      <td>XXXX</td>\n      <td>C01</td>\n      <td>M</td>\n      <td>2017-06-01</td>\n      <td>2018-06-30</td>\n      <td>CA1</td>\n      <td>1.0</td>\n      <td>オールタイム</td>\n      <td>10500.0</td>\n      <td>通常</td>\n      <td>3.333333</td>\n      <td>3.0</td>\n      <td>5.0</td>\n      <td>2.0</td>\n      <td>0.0</td>\n      <td>2018-06-30</td>\n      <td>12.0</td>\n      <td>2018-05-30 00:00:00</td>\n    </tr>\n    <tr>\n      <th>128</th>\n      <td>201805</td>\n      <td>AS363699</td>\n      <td>5</td>\n      <td>3.0</td>\n      <td>XXXXX</td>\n      <td>C01</td>\n      <td>M</td>\n      <td>2018-02-01</td>\n      <td>2018-06-30</td>\n      <td>CA1</td>\n      <td>1.0</td>\n      <td>オールタイム</td>\n      <td>10500.0</td>\n      <td>通常</td>\n      <td>3.333333</td>\n      <td>3.0</td>\n      <td>5.0</td>\n      <td>2.0</td>\n      <td>0.0</td>\n      <td>2018-06-30</td>\n      <td>4.0</td>\n      <td>2018-05-30 00:00:00</td>\n    </tr>\n    <tr>\n      <th>147</th>\n      <td>201805</td>\n      <td>AS417696</td>\n      <td>1</td>\n      <td>4.0</td>\n      <td>XX</td>\n      <td>C03</td>\n      <td>F</td>\n      <td>2017-09-01</td>\n      <td>2018-06-30</td>\n      <td>CA1</td>\n      <td>1.0</td>\n      <td>ナイト</td>\n      <td>6000.0</td>\n      <td>通常</td>\n      <td>2.000000</td>\n      <td>1.0</td>\n      <td>4.0</td>\n      <td>1.0</td>\n      <td>0.0</td>\n      <td>2018-06-30</td>\n      <td>9.0</td>\n      <td>2018-05-30 00:00:00</td>\n    </tr>\n    <tr>\n      <th>...</th>\n      <td>...</td>\n      <td>...</td>\n      <td>...</td>\n      <td>...</td>\n      <td>...</td>\n      <td>...</td>\n      <td>...</td>\n      <td>...</td>\n      <td>...</td>\n      <td>...</td>\n      <td>...</td>\n      <td>...</td>\n      <td>...</td>\n      <td>...</td>\n      <td>...</td>\n      <td>...</td>\n      <td>...</td>\n      <td>...</td>\n      <td>...</td>\n      <td>...</td>\n      <td>...</td>\n      <td>...</td>\n    </tr>\n    <tr>\n      <th>30758</th>\n      <td>201902</td>\n      <td>TS645212</td>\n      <td>4</td>\n      <td>2.0</td>\n      <td>XXXX</td>\n      <td>C03</td>\n      <td>F</td>\n      <td>2018-03-01</td>\n      <td>2019-03-31</td>\n      <td>CA1</td>\n      <td>1.0</td>\n      <td>ナイト</td>\n      <td>6000.0</td>\n      <td>通常</td>\n      <td>4.500000</td>\n      <td>4.5</td>\n      <td>7.0</td>\n      <td>1.0</td>\n      <td>0.0</td>\n      <td>2019-03-31</td>\n      <td>12.0</td>\n      <td>2019-02-28 00:00:00</td>\n    </tr>\n    <tr>\n      <th>30787</th>\n      <td>201902</td>\n      <td>TS741703</td>\n      <td>5</td>\n      <td>6.0</td>\n      <td>XXXX</td>\n      <td>C03</td>\n      <td>M</td>\n      <td>2018-12-08</td>\n      <td>2019-03-31</td>\n      <td>CA3</td>\n      <td>1.0</td>\n      <td>ナイト</td>\n      <td>6000.0</td>\n      <td>入会費無料</td>\n      <td>6.250000</td>\n      <td>6.0</td>\n      <td>8.0</td>\n      <td>5.0</td>\n      <td>0.0</td>\n      <td>2019-03-31</td>\n      <td>3.0</td>\n      <td>2019-02-28 00:00:00</td>\n    </tr>\n    <tr>\n      <th>30827</th>\n      <td>201902</td>\n      <td>TS859258</td>\n      <td>1</td>\n      <td>3.0</td>\n      <td>XXXXX</td>\n      <td>C02</td>\n      <td>F</td>\n      <td>2018-12-07</td>\n      <td>2019-03-31</td>\n      <td>CA3</td>\n      <td>1.0</td>\n      <td>デイタイム</td>\n      <td>7500.0</td>\n      <td>入会費無料</td>\n      <td>2.500000</td>\n      <td>2.0</td>\n      <td>5.0</td>\n      <td>1.0</td>\n      <td>0.0</td>\n      <td>2019-03-31</td>\n      <td>3.0</td>\n      <td>2019-02-28 00:00:00</td>\n    </tr>\n    <tr>\n      <th>30842</th>\n      <td>201902</td>\n      <td>TS886985</td>\n      <td>5</td>\n      <td>3.0</td>\n      <td>XXX</td>\n      <td>C02</td>\n      <td>F</td>\n      <td>2018-03-01</td>\n      <td>2019-03-31</td>\n      <td>CA1</td>\n      <td>1.0</td>\n      <td>デイタイム</td>\n      <td>7500.0</td>\n      <td>通常</td>\n      <td>4.250000</td>\n      <td>4.0</td>\n      <td>7.0</td>\n      <td>2.0</td>\n      <td>1.0</td>\n      <td>2019-03-31</td>\n      <td>12.0</td>\n      <td>2019-02-28 00:00:00</td>\n    </tr>\n    <tr>\n      <th>30852</th>\n      <td>201902</td>\n      <td>TS921837</td>\n      <td>2</td>\n      <td>3.0</td>\n      <td>XXXXXX</td>\n      <td>C01</td>\n      <td>M</td>\n      <td>2018-06-04</td>\n      <td>2019-03-31</td>\n      <td>CA2</td>\n      <td>1.0</td>\n      <td>オールタイム</td>\n      <td>10500.0</td>\n      <td>入会費半額</td>\n      <td>4.000000</td>\n      <td>3.5</td>\n      <td>9.0</td>\n      <td>2.0</td>\n      <td>1.0</td>\n      <td>2019-03-31</td>\n      <td>9.0</td>\n      <td>2019-02-28 00:00:00</td>\n    </tr>\n  </tbody>\n</table>\n<p>1104 rows × 22 columns</p>\n</div>"
     },
     "metadata": {},
     "execution_count": 117
    }
   ],
   "source": [
    "exit_uselog = exit_uselog.dropna(subset=['name'])\n",
    "exit_uselog"
   ]
  },
  {
   "cell_type": "markdown",
   "metadata": {},
   "source": [
    "### ノック43：継続顧客のデータを作成しよう"
   ]
  },
  {
   "cell_type": "code",
   "execution_count": 118,
   "metadata": {
    "tags": []
   },
   "outputs": [
    {
     "output_type": "stream",
     "name": "stdout",
     "text": "33851\n27422\n"
    }
   ],
   "source": [
    "conti_cusomer = customer.loc[customer['is_deleted'] == 0]\n",
    "conti_uselog = pd.merge(uselog, conti_cusomer, on=['customer_id'], how='left')\n",
    "print(len(conti_uselog))\n",
    "conti_uselog = conti_uselog.dropna(subset=['name'])\n",
    "print(len(conti_uselog))"
   ]
  },
  {
   "cell_type": "code",
   "execution_count": 119,
   "metadata": {},
   "outputs": [
    {
     "output_type": "execute_result",
     "data": {
      "text/plain": "           年月 customer_id  count_0  ...  routine_flg   calc_date membership_period\n0      201901    TS260662        5  ...          1.0  2019-04-30              40.0\n1      201902    TS020727        8  ...          1.0  2019-04-30              23.0\n2      201901    PL842727        7  ...          1.0  2019-04-30               4.0\n3      201811    GD975752        5  ...          1.0  2019-04-30              32.0\n4      201811    OA449475        5  ...          1.0  2019-04-30              19.0\n...       ...         ...      ...  ...          ...         ...               ...\n26499  201903    AS739640       10  ...          0.0  2019-04-30               1.0\n26511  201903    PL425572        7  ...          0.0  2019-04-30               1.0\n26724  201903    OA643695       11  ...          0.0  2019-04-30               1.0\n26782  201903    TS926301        8  ...          1.0  2019-04-30               1.0\n26833  201903    IK947853        8  ...          1.0  2019-04-30               1.0\n\n[2842 rows x 21 columns]",
      "text/html": "<div>\n<style scoped>\n    .dataframe tbody tr th:only-of-type {\n        vertical-align: middle;\n    }\n\n    .dataframe tbody tr th {\n        vertical-align: top;\n    }\n\n    .dataframe thead th {\n        text-align: right;\n    }\n</style>\n<table border=\"1\" class=\"dataframe\">\n  <thead>\n    <tr style=\"text-align: right;\">\n      <th></th>\n      <th>年月</th>\n      <th>customer_id</th>\n      <th>count_0</th>\n      <th>count_1</th>\n      <th>name</th>\n      <th>class</th>\n      <th>gender</th>\n      <th>start_date</th>\n      <th>end_date</th>\n      <th>campaign_id</th>\n      <th>is_deleted</th>\n      <th>class_name</th>\n      <th>price</th>\n      <th>campaign_name</th>\n      <th>mean</th>\n      <th>median</th>\n      <th>max</th>\n      <th>min</th>\n      <th>routine_flg</th>\n      <th>calc_date</th>\n      <th>membership_period</th>\n    </tr>\n  </thead>\n  <tbody>\n    <tr>\n      <th>0</th>\n      <td>201901</td>\n      <td>TS260662</td>\n      <td>5</td>\n      <td>5.0</td>\n      <td>XXXXX</td>\n      <td>C02</td>\n      <td>M</td>\n      <td>2015-12-01</td>\n      <td>NaN</td>\n      <td>CA1</td>\n      <td>0.0</td>\n      <td>デイタイム</td>\n      <td>7500.0</td>\n      <td>通常</td>\n      <td>4.583333</td>\n      <td>5.0</td>\n      <td>6.0</td>\n      <td>3.0</td>\n      <td>1.0</td>\n      <td>2019-04-30</td>\n      <td>40.0</td>\n    </tr>\n    <tr>\n      <th>1</th>\n      <td>201902</td>\n      <td>TS020727</td>\n      <td>8</td>\n      <td>6.0</td>\n      <td>XX</td>\n      <td>C01</td>\n      <td>M</td>\n      <td>2017-05-01</td>\n      <td>NaN</td>\n      <td>CA1</td>\n      <td>0.0</td>\n      <td>オールタイム</td>\n      <td>10500.0</td>\n      <td>通常</td>\n      <td>6.083333</td>\n      <td>6.0</td>\n      <td>8.0</td>\n      <td>3.0</td>\n      <td>1.0</td>\n      <td>2019-04-30</td>\n      <td>23.0</td>\n    </tr>\n    <tr>\n      <th>2</th>\n      <td>201901</td>\n      <td>PL842727</td>\n      <td>7</td>\n      <td>9.0</td>\n      <td>XXX</td>\n      <td>C02</td>\n      <td>M</td>\n      <td>2018-12-06</td>\n      <td>NaN</td>\n      <td>CA3</td>\n      <td>0.0</td>\n      <td>デイタイム</td>\n      <td>7500.0</td>\n      <td>入会費無料</td>\n      <td>8.250000</td>\n      <td>8.0</td>\n      <td>10.0</td>\n      <td>7.0</td>\n      <td>1.0</td>\n      <td>2019-04-30</td>\n      <td>4.0</td>\n    </tr>\n    <tr>\n      <th>3</th>\n      <td>201811</td>\n      <td>GD975752</td>\n      <td>5</td>\n      <td>6.0</td>\n      <td>XXXX</td>\n      <td>C02</td>\n      <td>F</td>\n      <td>2016-08-01</td>\n      <td>NaN</td>\n      <td>CA1</td>\n      <td>0.0</td>\n      <td>デイタイム</td>\n      <td>7500.0</td>\n      <td>通常</td>\n      <td>5.250000</td>\n      <td>5.0</td>\n      <td>7.0</td>\n      <td>2.0</td>\n      <td>1.0</td>\n      <td>2019-04-30</td>\n      <td>32.0</td>\n    </tr>\n    <tr>\n      <th>4</th>\n      <td>201811</td>\n      <td>OA449475</td>\n      <td>5</td>\n      <td>5.0</td>\n      <td>XXXXXX</td>\n      <td>C01</td>\n      <td>M</td>\n      <td>2017-09-01</td>\n      <td>NaN</td>\n      <td>CA1</td>\n      <td>0.0</td>\n      <td>オールタイム</td>\n      <td>10500.0</td>\n      <td>通常</td>\n      <td>5.833333</td>\n      <td>5.5</td>\n      <td>9.0</td>\n      <td>1.0</td>\n      <td>1.0</td>\n      <td>2019-04-30</td>\n      <td>19.0</td>\n    </tr>\n    <tr>\n      <th>...</th>\n      <td>...</td>\n      <td>...</td>\n      <td>...</td>\n      <td>...</td>\n      <td>...</td>\n      <td>...</td>\n      <td>...</td>\n      <td>...</td>\n      <td>...</td>\n      <td>...</td>\n      <td>...</td>\n      <td>...</td>\n      <td>...</td>\n      <td>...</td>\n      <td>...</td>\n      <td>...</td>\n      <td>...</td>\n      <td>...</td>\n      <td>...</td>\n      <td>...</td>\n      <td>...</td>\n    </tr>\n    <tr>\n      <th>26499</th>\n      <td>201903</td>\n      <td>AS739640</td>\n      <td>10</td>\n      <td>NaN</td>\n      <td>XXXXXX</td>\n      <td>C03</td>\n      <td>M</td>\n      <td>2019-03-13</td>\n      <td>NaN</td>\n      <td>CA1</td>\n      <td>0.0</td>\n      <td>ナイト</td>\n      <td>6000.0</td>\n      <td>通常</td>\n      <td>10.000000</td>\n      <td>10.0</td>\n      <td>10.0</td>\n      <td>10.0</td>\n      <td>0.0</td>\n      <td>2019-04-30</td>\n      <td>1.0</td>\n    </tr>\n    <tr>\n      <th>26511</th>\n      <td>201903</td>\n      <td>PL425572</td>\n      <td>7</td>\n      <td>NaN</td>\n      <td>XXXX</td>\n      <td>C01</td>\n      <td>F</td>\n      <td>2019-03-12</td>\n      <td>NaN</td>\n      <td>CA1</td>\n      <td>0.0</td>\n      <td>オールタイム</td>\n      <td>10500.0</td>\n      <td>通常</td>\n      <td>7.000000</td>\n      <td>7.0</td>\n      <td>7.0</td>\n      <td>7.0</td>\n      <td>0.0</td>\n      <td>2019-04-30</td>\n      <td>1.0</td>\n    </tr>\n    <tr>\n      <th>26724</th>\n      <td>201903</td>\n      <td>OA643695</td>\n      <td>11</td>\n      <td>NaN</td>\n      <td>XXXXX</td>\n      <td>C02</td>\n      <td>F</td>\n      <td>2019-03-12</td>\n      <td>NaN</td>\n      <td>CA1</td>\n      <td>0.0</td>\n      <td>デイタイム</td>\n      <td>7500.0</td>\n      <td>通常</td>\n      <td>11.000000</td>\n      <td>11.0</td>\n      <td>11.0</td>\n      <td>11.0</td>\n      <td>0.0</td>\n      <td>2019-04-30</td>\n      <td>1.0</td>\n    </tr>\n    <tr>\n      <th>26782</th>\n      <td>201903</td>\n      <td>TS926301</td>\n      <td>8</td>\n      <td>NaN</td>\n      <td>XXXXXX</td>\n      <td>C02</td>\n      <td>F</td>\n      <td>2019-03-08</td>\n      <td>NaN</td>\n      <td>CA1</td>\n      <td>0.0</td>\n      <td>デイタイム</td>\n      <td>7500.0</td>\n      <td>通常</td>\n      <td>8.000000</td>\n      <td>8.0</td>\n      <td>8.0</td>\n      <td>8.0</td>\n      <td>1.0</td>\n      <td>2019-04-30</td>\n      <td>1.0</td>\n    </tr>\n    <tr>\n      <th>26833</th>\n      <td>201903</td>\n      <td>IK947853</td>\n      <td>8</td>\n      <td>NaN</td>\n      <td>XXXXX</td>\n      <td>C02</td>\n      <td>F</td>\n      <td>2019-03-09</td>\n      <td>NaN</td>\n      <td>CA1</td>\n      <td>0.0</td>\n      <td>デイタイム</td>\n      <td>7500.0</td>\n      <td>通常</td>\n      <td>8.000000</td>\n      <td>8.0</td>\n      <td>8.0</td>\n      <td>8.0</td>\n      <td>1.0</td>\n      <td>2019-04-30</td>\n      <td>1.0</td>\n    </tr>\n  </tbody>\n</table>\n<p>2842 rows × 21 columns</p>\n</div>"
     },
     "metadata": {},
     "execution_count": 119
    }
   ],
   "source": [
    "conti_uselog = conti_uselog.sample(frac=1).reset_index(drop=True)\n",
    "conti_uselog = conti_uselog.drop_duplicates(subset='customer_id')\n",
    "conti_uselog"
   ]
  },
  {
   "cell_type": "code",
   "execution_count": 120,
   "metadata": {},
   "outputs": [
    {
     "output_type": "execute_result",
     "data": {
      "text/plain": "          年月 customer_id  ...  membership_period            exit_date\n0     201901    TS260662  ...               40.0                  NaN\n1     201902    TS020727  ...               23.0                  NaN\n2     201901    PL842727  ...                4.0                  NaN\n3     201811    GD975752  ...               32.0                  NaN\n4     201811    OA449475  ...               19.0                  NaN\n...      ...         ...  ...                ...                  ...\n3941  201902    TS645212  ...               12.0  2019-02-28 00:00:00\n3942  201902    TS741703  ...                3.0  2019-02-28 00:00:00\n3943  201902    TS859258  ...                3.0  2019-02-28 00:00:00\n3944  201902    TS886985  ...               12.0  2019-02-28 00:00:00\n3945  201902    TS921837  ...                9.0  2019-02-28 00:00:00\n\n[3946 rows x 22 columns]",
      "text/html": "<div>\n<style scoped>\n    .dataframe tbody tr th:only-of-type {\n        vertical-align: middle;\n    }\n\n    .dataframe tbody tr th {\n        vertical-align: top;\n    }\n\n    .dataframe thead th {\n        text-align: right;\n    }\n</style>\n<table border=\"1\" class=\"dataframe\">\n  <thead>\n    <tr style=\"text-align: right;\">\n      <th></th>\n      <th>年月</th>\n      <th>customer_id</th>\n      <th>count_0</th>\n      <th>count_1</th>\n      <th>name</th>\n      <th>class</th>\n      <th>gender</th>\n      <th>start_date</th>\n      <th>end_date</th>\n      <th>campaign_id</th>\n      <th>is_deleted</th>\n      <th>class_name</th>\n      <th>price</th>\n      <th>campaign_name</th>\n      <th>mean</th>\n      <th>median</th>\n      <th>max</th>\n      <th>min</th>\n      <th>routine_flg</th>\n      <th>calc_date</th>\n      <th>membership_period</th>\n      <th>exit_date</th>\n    </tr>\n  </thead>\n  <tbody>\n    <tr>\n      <th>0</th>\n      <td>201901</td>\n      <td>TS260662</td>\n      <td>5</td>\n      <td>5.0</td>\n      <td>XXXXX</td>\n      <td>C02</td>\n      <td>M</td>\n      <td>2015-12-01</td>\n      <td>NaN</td>\n      <td>CA1</td>\n      <td>0.0</td>\n      <td>デイタイム</td>\n      <td>7500.0</td>\n      <td>通常</td>\n      <td>4.583333</td>\n      <td>5.0</td>\n      <td>6.0</td>\n      <td>3.0</td>\n      <td>1.0</td>\n      <td>2019-04-30</td>\n      <td>40.0</td>\n      <td>NaN</td>\n    </tr>\n    <tr>\n      <th>1</th>\n      <td>201902</td>\n      <td>TS020727</td>\n      <td>8</td>\n      <td>6.0</td>\n      <td>XX</td>\n      <td>C01</td>\n      <td>M</td>\n      <td>2017-05-01</td>\n      <td>NaN</td>\n      <td>CA1</td>\n      <td>0.0</td>\n      <td>オールタイム</td>\n      <td>10500.0</td>\n      <td>通常</td>\n      <td>6.083333</td>\n      <td>6.0</td>\n      <td>8.0</td>\n      <td>3.0</td>\n      <td>1.0</td>\n      <td>2019-04-30</td>\n      <td>23.0</td>\n      <td>NaN</td>\n    </tr>\n    <tr>\n      <th>2</th>\n      <td>201901</td>\n      <td>PL842727</td>\n      <td>7</td>\n      <td>9.0</td>\n      <td>XXX</td>\n      <td>C02</td>\n      <td>M</td>\n      <td>2018-12-06</td>\n      <td>NaN</td>\n      <td>CA3</td>\n      <td>0.0</td>\n      <td>デイタイム</td>\n      <td>7500.0</td>\n      <td>入会費無料</td>\n      <td>8.250000</td>\n      <td>8.0</td>\n      <td>10.0</td>\n      <td>7.0</td>\n      <td>1.0</td>\n      <td>2019-04-30</td>\n      <td>4.0</td>\n      <td>NaN</td>\n    </tr>\n    <tr>\n      <th>3</th>\n      <td>201811</td>\n      <td>GD975752</td>\n      <td>5</td>\n      <td>6.0</td>\n      <td>XXXX</td>\n      <td>C02</td>\n      <td>F</td>\n      <td>2016-08-01</td>\n      <td>NaN</td>\n      <td>CA1</td>\n      <td>0.0</td>\n      <td>デイタイム</td>\n      <td>7500.0</td>\n      <td>通常</td>\n      <td>5.250000</td>\n      <td>5.0</td>\n      <td>7.0</td>\n      <td>2.0</td>\n      <td>1.0</td>\n      <td>2019-04-30</td>\n      <td>32.0</td>\n      <td>NaN</td>\n    </tr>\n    <tr>\n      <th>4</th>\n      <td>201811</td>\n      <td>OA449475</td>\n      <td>5</td>\n      <td>5.0</td>\n      <td>XXXXXX</td>\n      <td>C01</td>\n      <td>M</td>\n      <td>2017-09-01</td>\n      <td>NaN</td>\n      <td>CA1</td>\n      <td>0.0</td>\n      <td>オールタイム</td>\n      <td>10500.0</td>\n      <td>通常</td>\n      <td>5.833333</td>\n      <td>5.5</td>\n      <td>9.0</td>\n      <td>1.0</td>\n      <td>1.0</td>\n      <td>2019-04-30</td>\n      <td>19.0</td>\n      <td>NaN</td>\n    </tr>\n    <tr>\n      <th>...</th>\n      <td>...</td>\n      <td>...</td>\n      <td>...</td>\n      <td>...</td>\n      <td>...</td>\n      <td>...</td>\n      <td>...</td>\n      <td>...</td>\n      <td>...</td>\n      <td>...</td>\n      <td>...</td>\n      <td>...</td>\n      <td>...</td>\n      <td>...</td>\n      <td>...</td>\n      <td>...</td>\n      <td>...</td>\n      <td>...</td>\n      <td>...</td>\n      <td>...</td>\n      <td>...</td>\n      <td>...</td>\n    </tr>\n    <tr>\n      <th>3941</th>\n      <td>201902</td>\n      <td>TS645212</td>\n      <td>4</td>\n      <td>2.0</td>\n      <td>XXXX</td>\n      <td>C03</td>\n      <td>F</td>\n      <td>2018-03-01</td>\n      <td>2019-03-31 00:00:00</td>\n      <td>CA1</td>\n      <td>1.0</td>\n      <td>ナイト</td>\n      <td>6000.0</td>\n      <td>通常</td>\n      <td>4.500000</td>\n      <td>4.5</td>\n      <td>7.0</td>\n      <td>1.0</td>\n      <td>0.0</td>\n      <td>2019-03-31</td>\n      <td>12.0</td>\n      <td>2019-02-28 00:00:00</td>\n    </tr>\n    <tr>\n      <th>3942</th>\n      <td>201902</td>\n      <td>TS741703</td>\n      <td>5</td>\n      <td>6.0</td>\n      <td>XXXX</td>\n      <td>C03</td>\n      <td>M</td>\n      <td>2018-12-08</td>\n      <td>2019-03-31 00:00:00</td>\n      <td>CA3</td>\n      <td>1.0</td>\n      <td>ナイト</td>\n      <td>6000.0</td>\n      <td>入会費無料</td>\n      <td>6.250000</td>\n      <td>6.0</td>\n      <td>8.0</td>\n      <td>5.0</td>\n      <td>0.0</td>\n      <td>2019-03-31</td>\n      <td>3.0</td>\n      <td>2019-02-28 00:00:00</td>\n    </tr>\n    <tr>\n      <th>3943</th>\n      <td>201902</td>\n      <td>TS859258</td>\n      <td>1</td>\n      <td>3.0</td>\n      <td>XXXXX</td>\n      <td>C02</td>\n      <td>F</td>\n      <td>2018-12-07</td>\n      <td>2019-03-31 00:00:00</td>\n      <td>CA3</td>\n      <td>1.0</td>\n      <td>デイタイム</td>\n      <td>7500.0</td>\n      <td>入会費無料</td>\n      <td>2.500000</td>\n      <td>2.0</td>\n      <td>5.0</td>\n      <td>1.0</td>\n      <td>0.0</td>\n      <td>2019-03-31</td>\n      <td>3.0</td>\n      <td>2019-02-28 00:00:00</td>\n    </tr>\n    <tr>\n      <th>3944</th>\n      <td>201902</td>\n      <td>TS886985</td>\n      <td>5</td>\n      <td>3.0</td>\n      <td>XXX</td>\n      <td>C02</td>\n      <td>F</td>\n      <td>2018-03-01</td>\n      <td>2019-03-31 00:00:00</td>\n      <td>CA1</td>\n      <td>1.0</td>\n      <td>デイタイム</td>\n      <td>7500.0</td>\n      <td>通常</td>\n      <td>4.250000</td>\n      <td>4.0</td>\n      <td>7.0</td>\n      <td>2.0</td>\n      <td>1.0</td>\n      <td>2019-03-31</td>\n      <td>12.0</td>\n      <td>2019-02-28 00:00:00</td>\n    </tr>\n    <tr>\n      <th>3945</th>\n      <td>201902</td>\n      <td>TS921837</td>\n      <td>2</td>\n      <td>3.0</td>\n      <td>XXXXXX</td>\n      <td>C01</td>\n      <td>M</td>\n      <td>2018-06-04</td>\n      <td>2019-03-31 00:00:00</td>\n      <td>CA2</td>\n      <td>1.0</td>\n      <td>オールタイム</td>\n      <td>10500.0</td>\n      <td>入会費半額</td>\n      <td>4.000000</td>\n      <td>3.5</td>\n      <td>9.0</td>\n      <td>2.0</td>\n      <td>1.0</td>\n      <td>2019-03-31</td>\n      <td>9.0</td>\n      <td>2019-02-28 00:00:00</td>\n    </tr>\n  </tbody>\n</table>\n<p>3946 rows × 22 columns</p>\n</div>"
     },
     "metadata": {},
     "execution_count": 120
    }
   ],
   "source": [
    "predict_data = pd.concat([conti_uselog, exit_uselog], ignore_index=True)\n",
    "predict_data"
   ]
  },
  {
   "cell_type": "markdown",
   "metadata": {},
   "source": [
    "### ノック44：予測する月の在籍期間を作成しよう"
   ]
  },
  {
   "cell_type": "code",
   "execution_count": 121,
   "metadata": {
    "tags": []
   },
   "outputs": [
    {
     "output_type": "execute_result",
     "data": {
      "text/plain": "          年月 customer_id  count_0  ...            exit_date period   now_date\n0     201901    TS260662        5  ...                  NaN     37 2019-01-01\n1     201902    TS020727        8  ...                  NaN     21 2019-02-01\n2     201901    PL842727        7  ...                  NaN      0 2019-01-01\n3     201811    GD975752        5  ...                  NaN     27 2018-11-01\n4     201811    OA449475        5  ...                  NaN     14 2018-11-01\n...      ...         ...      ...  ...                  ...    ...        ...\n3941  201902    TS645212        4  ...  2019-02-28 00:00:00     11 2019-02-01\n3942  201902    TS741703        5  ...  2019-02-28 00:00:00      1 2019-02-01\n3943  201902    TS859258        1  ...  2019-02-28 00:00:00      1 2019-02-01\n3944  201902    TS886985        5  ...  2019-02-28 00:00:00     11 2019-02-01\n3945  201902    TS921837        2  ...  2019-02-28 00:00:00      7 2019-02-01\n\n[3946 rows x 24 columns]",
      "text/html": "<div>\n<style scoped>\n    .dataframe tbody tr th:only-of-type {\n        vertical-align: middle;\n    }\n\n    .dataframe tbody tr th {\n        vertical-align: top;\n    }\n\n    .dataframe thead th {\n        text-align: right;\n    }\n</style>\n<table border=\"1\" class=\"dataframe\">\n  <thead>\n    <tr style=\"text-align: right;\">\n      <th></th>\n      <th>年月</th>\n      <th>customer_id</th>\n      <th>count_0</th>\n      <th>count_1</th>\n      <th>name</th>\n      <th>class</th>\n      <th>gender</th>\n      <th>start_date</th>\n      <th>end_date</th>\n      <th>campaign_id</th>\n      <th>is_deleted</th>\n      <th>class_name</th>\n      <th>price</th>\n      <th>campaign_name</th>\n      <th>mean</th>\n      <th>median</th>\n      <th>max</th>\n      <th>min</th>\n      <th>routine_flg</th>\n      <th>calc_date</th>\n      <th>membership_period</th>\n      <th>exit_date</th>\n      <th>period</th>\n      <th>now_date</th>\n    </tr>\n  </thead>\n  <tbody>\n    <tr>\n      <th>0</th>\n      <td>201901</td>\n      <td>TS260662</td>\n      <td>5</td>\n      <td>5.0</td>\n      <td>XXXXX</td>\n      <td>C02</td>\n      <td>M</td>\n      <td>2015-12-01</td>\n      <td>NaN</td>\n      <td>CA1</td>\n      <td>0.0</td>\n      <td>デイタイム</td>\n      <td>7500.0</td>\n      <td>通常</td>\n      <td>4.583333</td>\n      <td>5.0</td>\n      <td>6.0</td>\n      <td>3.0</td>\n      <td>1.0</td>\n      <td>2019-04-30</td>\n      <td>40.0</td>\n      <td>NaN</td>\n      <td>37</td>\n      <td>2019-01-01</td>\n    </tr>\n    <tr>\n      <th>1</th>\n      <td>201902</td>\n      <td>TS020727</td>\n      <td>8</td>\n      <td>6.0</td>\n      <td>XX</td>\n      <td>C01</td>\n      <td>M</td>\n      <td>2017-05-01</td>\n      <td>NaN</td>\n      <td>CA1</td>\n      <td>0.0</td>\n      <td>オールタイム</td>\n      <td>10500.0</td>\n      <td>通常</td>\n      <td>6.083333</td>\n      <td>6.0</td>\n      <td>8.0</td>\n      <td>3.0</td>\n      <td>1.0</td>\n      <td>2019-04-30</td>\n      <td>23.0</td>\n      <td>NaN</td>\n      <td>21</td>\n      <td>2019-02-01</td>\n    </tr>\n    <tr>\n      <th>2</th>\n      <td>201901</td>\n      <td>PL842727</td>\n      <td>7</td>\n      <td>9.0</td>\n      <td>XXX</td>\n      <td>C02</td>\n      <td>M</td>\n      <td>2018-12-06</td>\n      <td>NaN</td>\n      <td>CA3</td>\n      <td>0.0</td>\n      <td>デイタイム</td>\n      <td>7500.0</td>\n      <td>入会費無料</td>\n      <td>8.250000</td>\n      <td>8.0</td>\n      <td>10.0</td>\n      <td>7.0</td>\n      <td>1.0</td>\n      <td>2019-04-30</td>\n      <td>4.0</td>\n      <td>NaN</td>\n      <td>0</td>\n      <td>2019-01-01</td>\n    </tr>\n    <tr>\n      <th>3</th>\n      <td>201811</td>\n      <td>GD975752</td>\n      <td>5</td>\n      <td>6.0</td>\n      <td>XXXX</td>\n      <td>C02</td>\n      <td>F</td>\n      <td>2016-08-01</td>\n      <td>NaN</td>\n      <td>CA1</td>\n      <td>0.0</td>\n      <td>デイタイム</td>\n      <td>7500.0</td>\n      <td>通常</td>\n      <td>5.250000</td>\n      <td>5.0</td>\n      <td>7.0</td>\n      <td>2.0</td>\n      <td>1.0</td>\n      <td>2019-04-30</td>\n      <td>32.0</td>\n      <td>NaN</td>\n      <td>27</td>\n      <td>2018-11-01</td>\n    </tr>\n    <tr>\n      <th>4</th>\n      <td>201811</td>\n      <td>OA449475</td>\n      <td>5</td>\n      <td>5.0</td>\n      <td>XXXXXX</td>\n      <td>C01</td>\n      <td>M</td>\n      <td>2017-09-01</td>\n      <td>NaN</td>\n      <td>CA1</td>\n      <td>0.0</td>\n      <td>オールタイム</td>\n      <td>10500.0</td>\n      <td>通常</td>\n      <td>5.833333</td>\n      <td>5.5</td>\n      <td>9.0</td>\n      <td>1.0</td>\n      <td>1.0</td>\n      <td>2019-04-30</td>\n      <td>19.0</td>\n      <td>NaN</td>\n      <td>14</td>\n      <td>2018-11-01</td>\n    </tr>\n    <tr>\n      <th>...</th>\n      <td>...</td>\n      <td>...</td>\n      <td>...</td>\n      <td>...</td>\n      <td>...</td>\n      <td>...</td>\n      <td>...</td>\n      <td>...</td>\n      <td>...</td>\n      <td>...</td>\n      <td>...</td>\n      <td>...</td>\n      <td>...</td>\n      <td>...</td>\n      <td>...</td>\n      <td>...</td>\n      <td>...</td>\n      <td>...</td>\n      <td>...</td>\n      <td>...</td>\n      <td>...</td>\n      <td>...</td>\n      <td>...</td>\n      <td>...</td>\n    </tr>\n    <tr>\n      <th>3941</th>\n      <td>201902</td>\n      <td>TS645212</td>\n      <td>4</td>\n      <td>2.0</td>\n      <td>XXXX</td>\n      <td>C03</td>\n      <td>F</td>\n      <td>2018-03-01</td>\n      <td>2019-03-31 00:00:00</td>\n      <td>CA1</td>\n      <td>1.0</td>\n      <td>ナイト</td>\n      <td>6000.0</td>\n      <td>通常</td>\n      <td>4.500000</td>\n      <td>4.5</td>\n      <td>7.0</td>\n      <td>1.0</td>\n      <td>0.0</td>\n      <td>2019-03-31</td>\n      <td>12.0</td>\n      <td>2019-02-28 00:00:00</td>\n      <td>11</td>\n      <td>2019-02-01</td>\n    </tr>\n    <tr>\n      <th>3942</th>\n      <td>201902</td>\n      <td>TS741703</td>\n      <td>5</td>\n      <td>6.0</td>\n      <td>XXXX</td>\n      <td>C03</td>\n      <td>M</td>\n      <td>2018-12-08</td>\n      <td>2019-03-31 00:00:00</td>\n      <td>CA3</td>\n      <td>1.0</td>\n      <td>ナイト</td>\n      <td>6000.0</td>\n      <td>入会費無料</td>\n      <td>6.250000</td>\n      <td>6.0</td>\n      <td>8.0</td>\n      <td>5.0</td>\n      <td>0.0</td>\n      <td>2019-03-31</td>\n      <td>3.0</td>\n      <td>2019-02-28 00:00:00</td>\n      <td>1</td>\n      <td>2019-02-01</td>\n    </tr>\n    <tr>\n      <th>3943</th>\n      <td>201902</td>\n      <td>TS859258</td>\n      <td>1</td>\n      <td>3.0</td>\n      <td>XXXXX</td>\n      <td>C02</td>\n      <td>F</td>\n      <td>2018-12-07</td>\n      <td>2019-03-31 00:00:00</td>\n      <td>CA3</td>\n      <td>1.0</td>\n      <td>デイタイム</td>\n      <td>7500.0</td>\n      <td>入会費無料</td>\n      <td>2.500000</td>\n      <td>2.0</td>\n      <td>5.0</td>\n      <td>1.0</td>\n      <td>0.0</td>\n      <td>2019-03-31</td>\n      <td>3.0</td>\n      <td>2019-02-28 00:00:00</td>\n      <td>1</td>\n      <td>2019-02-01</td>\n    </tr>\n    <tr>\n      <th>3944</th>\n      <td>201902</td>\n      <td>TS886985</td>\n      <td>5</td>\n      <td>3.0</td>\n      <td>XXX</td>\n      <td>C02</td>\n      <td>F</td>\n      <td>2018-03-01</td>\n      <td>2019-03-31 00:00:00</td>\n      <td>CA1</td>\n      <td>1.0</td>\n      <td>デイタイム</td>\n      <td>7500.0</td>\n      <td>通常</td>\n      <td>4.250000</td>\n      <td>4.0</td>\n      <td>7.0</td>\n      <td>2.0</td>\n      <td>1.0</td>\n      <td>2019-03-31</td>\n      <td>12.0</td>\n      <td>2019-02-28 00:00:00</td>\n      <td>11</td>\n      <td>2019-02-01</td>\n    </tr>\n    <tr>\n      <th>3945</th>\n      <td>201902</td>\n      <td>TS921837</td>\n      <td>2</td>\n      <td>3.0</td>\n      <td>XXXXXX</td>\n      <td>C01</td>\n      <td>M</td>\n      <td>2018-06-04</td>\n      <td>2019-03-31 00:00:00</td>\n      <td>CA2</td>\n      <td>1.0</td>\n      <td>オールタイム</td>\n      <td>10500.0</td>\n      <td>入会費半額</td>\n      <td>4.000000</td>\n      <td>3.5</td>\n      <td>9.0</td>\n      <td>2.0</td>\n      <td>1.0</td>\n      <td>2019-03-31</td>\n      <td>9.0</td>\n      <td>2019-02-28 00:00:00</td>\n      <td>7</td>\n      <td>2019-02-01</td>\n    </tr>\n  </tbody>\n</table>\n<p>3946 rows × 24 columns</p>\n</div>"
     },
     "metadata": {},
     "execution_count": 121
    }
   ],
   "source": [
    "\n",
    "# predict_data['end_date'].unique()\n",
    "# print(predict_data.dtypes)\n",
    "\n",
    "predict_data['period'] = 0\n",
    "predict_data['now_date'] = pd.to_datetime(predict_data['年月'], format='%Y%m')\n",
    "predict_data['start_date'] = pd.to_datetime(predict_data['start_date'])\n",
    "\n",
    "from dateutil.relativedelta import relativedelta\n",
    "\n",
    "for i in range(len(predict_data)):\n",
    "    d = relativedelta(predict_data['now_date'][i], predict_data['start_date'][i])\n",
    "    predict_data['period'][i] = int(d.years * 12 + d.months)\n",
    "\n",
    "predict_data\n",
    "\n"
   ]
  },
  {
   "cell_type": "markdown",
   "metadata": {},
   "source": [
    "### ノック45：欠損値を除去しよう"
   ]
  },
  {
   "cell_type": "code",
   "execution_count": 122,
   "metadata": {},
   "outputs": [
    {
     "output_type": "execute_result",
     "data": {
      "text/plain": "年月                      0\ncustomer_id             0\ncount_0                 0\ncount_1               266\nname                    0\nclass                   0\ngender                  0\nstart_date              0\nend_date             2842\ncampaign_id             0\nis_deleted              0\nclass_name              0\nprice                   0\ncampaign_name           0\nmean                    0\nmedian                  0\nmax                     0\nmin                     0\nroutine_flg             0\ncalc_date               0\nmembership_period       0\nexit_date            2842\nperiod                  0\nnow_date                0\ndtype: int64"
     },
     "metadata": {},
     "execution_count": 122
    }
   ],
   "source": [
    "predict_data.isna().sum()"
   ]
  },
  {
   "cell_type": "code",
   "execution_count": 123,
   "metadata": {},
   "outputs": [
    {
     "output_type": "execute_result",
     "data": {
      "text/plain": "年月                      0\ncustomer_id             0\ncount_0                 0\ncount_1                 0\nname                    0\nclass                   0\ngender                  0\nstart_date              0\nend_date             2628\ncampaign_id             0\nis_deleted              0\nclass_name              0\nprice                   0\ncampaign_name           0\nmean                    0\nmedian                  0\nmax                     0\nmin                     0\nroutine_flg             0\ncalc_date               0\nmembership_period       0\nexit_date            2628\nperiod                  0\nnow_date                0\ndtype: int64"
     },
     "metadata": {},
     "execution_count": 123
    }
   ],
   "source": [
    "predict_data = predict_data.dropna(subset=['count_1'])\n",
    "predict_data.isna().sum()"
   ]
  },
  {
   "cell_type": "markdown",
   "metadata": {},
   "source": [
    "### ノック46：文字列型の変数を処理できるように整形しよう"
   ]
  },
  {
   "cell_type": "code",
   "execution_count": 124,
   "metadata": {},
   "outputs": [
    {
     "output_type": "execute_result",
     "data": {
      "text/plain": "     campaign_name class_name gender  count_1  routine_flg  period  is_deleted\n0               通常      デイタイム      M      5.0          1.0      37         0.0\n1               通常     オールタイム      M      6.0          1.0      21         0.0\n2            入会費無料      デイタイム      M      9.0          1.0       0         0.0\n3               通常      デイタイム      F      6.0          1.0      27         0.0\n4               通常     オールタイム      M      5.0          1.0      14         0.0\n...            ...        ...    ...      ...          ...     ...         ...\n3941            通常        ナイト      F      2.0          0.0      11         1.0\n3942         入会費無料        ナイト      M      6.0          0.0       1         1.0\n3943         入会費無料      デイタイム      F      3.0          0.0       1         1.0\n3944            通常      デイタイム      F      3.0          1.0      11         1.0\n3945         入会費半額     オールタイム      M      3.0          1.0       7         1.0\n\n[3680 rows x 7 columns]",
      "text/html": "<div>\n<style scoped>\n    .dataframe tbody tr th:only-of-type {\n        vertical-align: middle;\n    }\n\n    .dataframe tbody tr th {\n        vertical-align: top;\n    }\n\n    .dataframe thead th {\n        text-align: right;\n    }\n</style>\n<table border=\"1\" class=\"dataframe\">\n  <thead>\n    <tr style=\"text-align: right;\">\n      <th></th>\n      <th>campaign_name</th>\n      <th>class_name</th>\n      <th>gender</th>\n      <th>count_1</th>\n      <th>routine_flg</th>\n      <th>period</th>\n      <th>is_deleted</th>\n    </tr>\n  </thead>\n  <tbody>\n    <tr>\n      <th>0</th>\n      <td>通常</td>\n      <td>デイタイム</td>\n      <td>M</td>\n      <td>5.0</td>\n      <td>1.0</td>\n      <td>37</td>\n      <td>0.0</td>\n    </tr>\n    <tr>\n      <th>1</th>\n      <td>通常</td>\n      <td>オールタイム</td>\n      <td>M</td>\n      <td>6.0</td>\n      <td>1.0</td>\n      <td>21</td>\n      <td>0.0</td>\n    </tr>\n    <tr>\n      <th>2</th>\n      <td>入会費無料</td>\n      <td>デイタイム</td>\n      <td>M</td>\n      <td>9.0</td>\n      <td>1.0</td>\n      <td>0</td>\n      <td>0.0</td>\n    </tr>\n    <tr>\n      <th>3</th>\n      <td>通常</td>\n      <td>デイタイム</td>\n      <td>F</td>\n      <td>6.0</td>\n      <td>1.0</td>\n      <td>27</td>\n      <td>0.0</td>\n    </tr>\n    <tr>\n      <th>4</th>\n      <td>通常</td>\n      <td>オールタイム</td>\n      <td>M</td>\n      <td>5.0</td>\n      <td>1.0</td>\n      <td>14</td>\n      <td>0.0</td>\n    </tr>\n    <tr>\n      <th>...</th>\n      <td>...</td>\n      <td>...</td>\n      <td>...</td>\n      <td>...</td>\n      <td>...</td>\n      <td>...</td>\n      <td>...</td>\n    </tr>\n    <tr>\n      <th>3941</th>\n      <td>通常</td>\n      <td>ナイト</td>\n      <td>F</td>\n      <td>2.0</td>\n      <td>0.0</td>\n      <td>11</td>\n      <td>1.0</td>\n    </tr>\n    <tr>\n      <th>3942</th>\n      <td>入会費無料</td>\n      <td>ナイト</td>\n      <td>M</td>\n      <td>6.0</td>\n      <td>0.0</td>\n      <td>1</td>\n      <td>1.0</td>\n    </tr>\n    <tr>\n      <th>3943</th>\n      <td>入会費無料</td>\n      <td>デイタイム</td>\n      <td>F</td>\n      <td>3.0</td>\n      <td>0.0</td>\n      <td>1</td>\n      <td>1.0</td>\n    </tr>\n    <tr>\n      <th>3944</th>\n      <td>通常</td>\n      <td>デイタイム</td>\n      <td>F</td>\n      <td>3.0</td>\n      <td>1.0</td>\n      <td>11</td>\n      <td>1.0</td>\n    </tr>\n    <tr>\n      <th>3945</th>\n      <td>入会費半額</td>\n      <td>オールタイム</td>\n      <td>M</td>\n      <td>3.0</td>\n      <td>1.0</td>\n      <td>7</td>\n      <td>1.0</td>\n    </tr>\n  </tbody>\n</table>\n<p>3680 rows × 7 columns</p>\n</div>"
     },
     "metadata": {},
     "execution_count": 124
    }
   ],
   "source": [
    "target_col = ['campaign_name', 'class_name', 'gender', 'count_1', 'routine_flg', 'period', 'is_deleted']\n",
    "predict_data = predict_data[target_col]\n",
    "predict_data"
   ]
  },
  {
   "cell_type": "code",
   "execution_count": 125,
   "metadata": {},
   "outputs": [
    {
     "output_type": "execute_result",
     "data": {
      "text/plain": "      count_1  routine_flg  period  ...  class_name_ナイト  gender_F  gender_M\n0         5.0          1.0      37  ...               0         0         1\n1         6.0          1.0      21  ...               0         0         1\n2         9.0          1.0       0  ...               0         0         1\n3         6.0          1.0      27  ...               0         1         0\n4         5.0          1.0      14  ...               0         0         1\n...       ...          ...     ...  ...             ...       ...       ...\n3941      2.0          0.0      11  ...               1         1         0\n3942      6.0          0.0       1  ...               1         0         1\n3943      3.0          0.0       1  ...               0         1         0\n3944      3.0          1.0      11  ...               0         1         0\n3945      3.0          1.0       7  ...               0         0         1\n\n[3680 rows x 12 columns]",
      "text/html": "<div>\n<style scoped>\n    .dataframe tbody tr th:only-of-type {\n        vertical-align: middle;\n    }\n\n    .dataframe tbody tr th {\n        vertical-align: top;\n    }\n\n    .dataframe thead th {\n        text-align: right;\n    }\n</style>\n<table border=\"1\" class=\"dataframe\">\n  <thead>\n    <tr style=\"text-align: right;\">\n      <th></th>\n      <th>count_1</th>\n      <th>routine_flg</th>\n      <th>period</th>\n      <th>is_deleted</th>\n      <th>campaign_name_入会費半額</th>\n      <th>campaign_name_入会費無料</th>\n      <th>campaign_name_通常</th>\n      <th>class_name_オールタイム</th>\n      <th>class_name_デイタイム</th>\n      <th>class_name_ナイト</th>\n      <th>gender_F</th>\n      <th>gender_M</th>\n    </tr>\n  </thead>\n  <tbody>\n    <tr>\n      <th>0</th>\n      <td>5.0</td>\n      <td>1.0</td>\n      <td>37</td>\n      <td>0.0</td>\n      <td>0</td>\n      <td>0</td>\n      <td>1</td>\n      <td>0</td>\n      <td>1</td>\n      <td>0</td>\n      <td>0</td>\n      <td>1</td>\n    </tr>\n    <tr>\n      <th>1</th>\n      <td>6.0</td>\n      <td>1.0</td>\n      <td>21</td>\n      <td>0.0</td>\n      <td>0</td>\n      <td>0</td>\n      <td>1</td>\n      <td>1</td>\n      <td>0</td>\n      <td>0</td>\n      <td>0</td>\n      <td>1</td>\n    </tr>\n    <tr>\n      <th>2</th>\n      <td>9.0</td>\n      <td>1.0</td>\n      <td>0</td>\n      <td>0.0</td>\n      <td>0</td>\n      <td>1</td>\n      <td>0</td>\n      <td>0</td>\n      <td>1</td>\n      <td>0</td>\n      <td>0</td>\n      <td>1</td>\n    </tr>\n    <tr>\n      <th>3</th>\n      <td>6.0</td>\n      <td>1.0</td>\n      <td>27</td>\n      <td>0.0</td>\n      <td>0</td>\n      <td>0</td>\n      <td>1</td>\n      <td>0</td>\n      <td>1</td>\n      <td>0</td>\n      <td>1</td>\n      <td>0</td>\n    </tr>\n    <tr>\n      <th>4</th>\n      <td>5.0</td>\n      <td>1.0</td>\n      <td>14</td>\n      <td>0.0</td>\n      <td>0</td>\n      <td>0</td>\n      <td>1</td>\n      <td>1</td>\n      <td>0</td>\n      <td>0</td>\n      <td>0</td>\n      <td>1</td>\n    </tr>\n    <tr>\n      <th>...</th>\n      <td>...</td>\n      <td>...</td>\n      <td>...</td>\n      <td>...</td>\n      <td>...</td>\n      <td>...</td>\n      <td>...</td>\n      <td>...</td>\n      <td>...</td>\n      <td>...</td>\n      <td>...</td>\n      <td>...</td>\n    </tr>\n    <tr>\n      <th>3941</th>\n      <td>2.0</td>\n      <td>0.0</td>\n      <td>11</td>\n      <td>1.0</td>\n      <td>0</td>\n      <td>0</td>\n      <td>1</td>\n      <td>0</td>\n      <td>0</td>\n      <td>1</td>\n      <td>1</td>\n      <td>0</td>\n    </tr>\n    <tr>\n      <th>3942</th>\n      <td>6.0</td>\n      <td>0.0</td>\n      <td>1</td>\n      <td>1.0</td>\n      <td>0</td>\n      <td>1</td>\n      <td>0</td>\n      <td>0</td>\n      <td>0</td>\n      <td>1</td>\n      <td>0</td>\n      <td>1</td>\n    </tr>\n    <tr>\n      <th>3943</th>\n      <td>3.0</td>\n      <td>0.0</td>\n      <td>1</td>\n      <td>1.0</td>\n      <td>0</td>\n      <td>1</td>\n      <td>0</td>\n      <td>0</td>\n      <td>1</td>\n      <td>0</td>\n      <td>1</td>\n      <td>0</td>\n    </tr>\n    <tr>\n      <th>3944</th>\n      <td>3.0</td>\n      <td>1.0</td>\n      <td>11</td>\n      <td>1.0</td>\n      <td>0</td>\n      <td>0</td>\n      <td>1</td>\n      <td>0</td>\n      <td>1</td>\n      <td>0</td>\n      <td>1</td>\n      <td>0</td>\n    </tr>\n    <tr>\n      <th>3945</th>\n      <td>3.0</td>\n      <td>1.0</td>\n      <td>7</td>\n      <td>1.0</td>\n      <td>1</td>\n      <td>0</td>\n      <td>0</td>\n      <td>1</td>\n      <td>0</td>\n      <td>0</td>\n      <td>0</td>\n      <td>1</td>\n    </tr>\n  </tbody>\n</table>\n<p>3680 rows × 12 columns</p>\n</div>"
     },
     "metadata": {},
     "execution_count": 125
    }
   ],
   "source": [
    "predict_data = pd.get_dummies(predict_data)\n",
    "predict_data"
   ]
  },
  {
   "cell_type": "code",
   "execution_count": 126,
   "metadata": {},
   "outputs": [],
   "source": [
    "del predict_data['campaign_name_通常']\n",
    "del predict_data['class_name_ナイト']\n",
    "del predict_data['gender_M']"
   ]
  },
  {
   "cell_type": "markdown",
   "metadata": {},
   "source": [
    "### ノック47：決定木を用いて退会予測モデルを作成してみよう"
   ]
  },
  {
   "cell_type": "code",
   "execution_count": 127,
   "metadata": {},
   "outputs": [
    {
     "output_type": "execute_result",
     "data": {
      "text/plain": "array([0., 1., 0., 0., 0., 1., 0., 1., 0., 1., 1., 1., 1., 1., 0., 0., 0.,\n       1., 0., 1., 1., 1., 0., 0., 1., 1., 1., 0., 0., 1., 0., 1., 1., 1.,\n       1., 1., 1., 1., 0., 0., 1., 0., 1., 1., 0., 1., 1., 0., 0., 0., 0.,\n       1., 0., 1., 1., 1., 0., 1., 1., 1., 1., 1., 0., 0., 1., 0., 1., 0.,\n       0., 0., 1., 0., 1., 1., 0., 1., 1., 0., 1., 1., 0., 0., 1., 1., 0.,\n       0., 0., 0., 0., 0., 1., 1., 0., 1., 0., 0., 0., 0., 0., 0., 0., 1.,\n       1., 1., 1., 0., 1., 0., 1., 0., 0., 1., 0., 0., 0., 1., 0., 0., 0.,\n       0., 1., 0., 1., 1., 1., 0., 0., 1., 0., 0., 1., 1., 1., 1., 0., 1.,\n       0., 1., 1., 0., 0., 0., 0., 0., 1., 1., 1., 0., 0., 1., 1., 0., 0.,\n       0., 1., 1., 1., 0., 1., 1., 0., 0., 0., 0., 1., 1., 0., 0., 1., 0.,\n       1., 0., 1., 1., 1., 1., 0., 1., 0., 1., 0., 0., 0., 0., 0., 1., 0.,\n       0., 1., 1., 1., 1., 0., 1., 0., 0., 1., 1., 1., 1., 0., 1., 0., 1.,\n       1., 1., 0., 0., 1., 0., 1., 1., 0., 0., 0., 1., 1., 0., 0., 1., 0.,\n       1., 0., 0., 1., 1., 0., 0., 1., 0., 0., 1., 0., 1., 0., 0., 0., 1.,\n       1., 1., 0., 0., 1., 0., 1., 1., 1., 1., 0., 0., 1., 1., 0., 1., 1.,\n       0., 0., 1., 0., 1., 1., 0., 0., 1., 0., 0., 0., 1., 0., 0., 0., 1.,\n       0., 1., 0., 1., 0., 1., 0., 1., 0., 0., 0., 0., 0., 1., 0., 1., 1.,\n       0., 0., 0., 1., 0., 0., 1., 0., 0., 1., 0., 1., 1., 1., 0., 1., 0.,\n       0., 1., 1., 0., 1., 1., 1., 1., 0., 1., 0., 0., 1., 1., 1., 1., 1.,\n       0., 1., 1., 0., 1., 1., 1., 1., 0., 0., 0., 1., 0., 0., 1., 1., 1.,\n       1., 1., 1., 0., 1., 0., 1., 0., 0., 0., 1., 0., 1., 0., 0., 1., 0.,\n       1., 0., 0., 0., 1., 0., 0., 0., 1., 1., 0., 1., 0., 0., 1., 1., 1.,\n       1., 1., 1., 0., 0., 0., 1., 1., 0., 0., 1., 0., 0., 1., 0., 0., 0.,\n       0., 1., 0., 1., 1., 0., 1., 0., 1., 1., 1., 1., 1., 1., 0., 1., 1.,\n       0., 0., 0., 1., 1., 0., 0., 1., 0., 1., 1., 1., 0., 1., 0., 0., 0.,\n       1., 1., 0., 0., 0., 1., 1., 1., 1., 1., 1., 1., 0., 1., 0., 1., 0.,\n       1., 1., 0., 1., 0., 1., 1., 0., 0., 1., 1., 0., 1., 0., 0., 0., 0.,\n       0., 0., 0., 1., 0., 1., 1., 1., 0., 0., 0., 1., 1., 0., 1., 1., 1.,\n       0., 1., 1., 1., 0., 0., 1., 1., 1., 0., 0., 1., 1., 0., 0., 1., 0.,\n       1., 0., 0., 1., 0., 1., 0., 1., 1., 1., 0., 1., 1., 1., 0., 1., 0.,\n       1., 1., 1., 1., 0., 0., 0., 0., 1., 0., 0., 1., 1., 1., 1., 1.])"
     },
     "metadata": {},
     "execution_count": 127
    }
   ],
   "source": [
    "from sklearn.tree import DecisionTreeClassifier\n",
    "import sklearn.model_selection\n",
    "\n",
    "exit = predict_data.loc[predict_data['is_deleted'] == 1]\n",
    "conti = predict_data.loc[predict_data['is_deleted'] == 0].sample(len(exit))\n",
    "\n",
    "X = pd.concat([exit, conti], ignore_index=True)\n",
    "y = X['is_deleted']\n",
    "del X['is_deleted']\n",
    "\n",
    "X_train, X_test, y_train, y_test = sklearn.model_selection.train_test_split(X, y)\n",
    "\n",
    "model = DecisionTreeClassifier()\n",
    "model.fit(X_train, y_train)\n",
    "y_test_pred = model.predict(X_test)\n",
    "y_test_pred\n"
   ]
  },
  {
   "cell_type": "code",
   "execution_count": 128,
   "metadata": {},
   "outputs": [
    {
     "output_type": "execute_result",
     "data": {
      "text/plain": "      y_test  y_pred\n1305     0.0     0.0\n826      1.0     1.0\n1158     0.0     0.0\n798      1.0     0.0\n1952     0.0     0.0\n...      ...     ...\n100      1.0     1.0\n786      1.0     1.0\n140      1.0     1.0\n914      1.0     1.0\n111      1.0     1.0\n\n[526 rows x 2 columns]",
      "text/html": "<div>\n<style scoped>\n    .dataframe tbody tr th:only-of-type {\n        vertical-align: middle;\n    }\n\n    .dataframe tbody tr th {\n        vertical-align: top;\n    }\n\n    .dataframe thead th {\n        text-align: right;\n    }\n</style>\n<table border=\"1\" class=\"dataframe\">\n  <thead>\n    <tr style=\"text-align: right;\">\n      <th></th>\n      <th>y_test</th>\n      <th>y_pred</th>\n    </tr>\n  </thead>\n  <tbody>\n    <tr>\n      <th>1305</th>\n      <td>0.0</td>\n      <td>0.0</td>\n    </tr>\n    <tr>\n      <th>826</th>\n      <td>1.0</td>\n      <td>1.0</td>\n    </tr>\n    <tr>\n      <th>1158</th>\n      <td>0.0</td>\n      <td>0.0</td>\n    </tr>\n    <tr>\n      <th>798</th>\n      <td>1.0</td>\n      <td>0.0</td>\n    </tr>\n    <tr>\n      <th>1952</th>\n      <td>0.0</td>\n      <td>0.0</td>\n    </tr>\n    <tr>\n      <th>...</th>\n      <td>...</td>\n      <td>...</td>\n    </tr>\n    <tr>\n      <th>100</th>\n      <td>1.0</td>\n      <td>1.0</td>\n    </tr>\n    <tr>\n      <th>786</th>\n      <td>1.0</td>\n      <td>1.0</td>\n    </tr>\n    <tr>\n      <th>140</th>\n      <td>1.0</td>\n      <td>1.0</td>\n    </tr>\n    <tr>\n      <th>914</th>\n      <td>1.0</td>\n      <td>1.0</td>\n    </tr>\n    <tr>\n      <th>111</th>\n      <td>1.0</td>\n      <td>1.0</td>\n    </tr>\n  </tbody>\n</table>\n<p>526 rows × 2 columns</p>\n</div>"
     },
     "metadata": {},
     "execution_count": 128
    }
   ],
   "source": [
    "results_test = pd.DataFrame({'y_test': y_test, 'y_pred': y_test_pred})\n",
    "results_test"
   ]
  },
  {
   "cell_type": "markdown",
   "metadata": {},
   "source": [
    "### ノック48：予測モデルの評価を行ない、モデルのチューニングをしてみよう"
   ]
  },
  {
   "cell_type": "code",
   "execution_count": 129,
   "metadata": {},
   "outputs": [
    {
     "output_type": "execute_result",
     "data": {
      "text/plain": "0.8802281368821293"
     },
     "metadata": {},
     "execution_count": 129
    }
   ],
   "source": [
    "correct = len(results_test.loc[results_test['y_test'] == results_test['y_pred']])\n",
    "data_count = len(results_test)\n",
    "score_test = correct / data_count\n",
    "score_test\n"
   ]
  },
  {
   "cell_type": "code",
   "execution_count": 130,
   "metadata": {
    "tags": []
   },
   "outputs": [
    {
     "output_type": "stream",
     "name": "stdout",
     "text": "0.8802281368821293\n0.9816223067173637\n"
    }
   ],
   "source": [
    "print(model.score(X_test, y_test))\n",
    "print(model.score(X_train, y_train))"
   ]
  },
  {
   "cell_type": "code",
   "execution_count": 131,
   "metadata": {
    "tags": []
   },
   "outputs": [
    {
     "output_type": "stream",
     "name": "stdout",
     "text": "0.9163498098859315\n0.9207858048162231\n"
    }
   ],
   "source": [
    "X = pd.concat([exit, conti], ignore_index=True)\n",
    "y = X['is_deleted']\n",
    "del X['is_deleted']\n",
    "\n",
    "X_train, X_test, y_train, y_test = sklearn.model_selection.train_test_split(X, y)\n",
    "\n",
    "model = DecisionTreeClassifier(random_state=0, max_depth=5)\n",
    "model.fit(X_train, y_train)\n",
    "print(model.score(X_test, y_test))\n",
    "print(model.score(X_train, y_train))"
   ]
  },
  {
   "cell_type": "markdown",
   "metadata": {},
   "source": [
    "### ノック49：モデルに寄与している変数を確認しよう"
   ]
  },
  {
   "cell_type": "code",
   "execution_count": 132,
   "metadata": {},
   "outputs": [
    {
     "output_type": "execute_result",
     "data": {
      "text/plain": "         feature_names  coefficient\n0              count_1     0.338621\n1          routine_flg     0.119191\n2               period     0.536829\n3  campaign_name_入会費半額     0.000000\n4  campaign_name_入会費無料     0.005359\n5    class_name_オールタイム     0.000000\n6     class_name_デイタイム     0.000000\n7             gender_F     0.000000",
      "text/html": "<div>\n<style scoped>\n    .dataframe tbody tr th:only-of-type {\n        vertical-align: middle;\n    }\n\n    .dataframe tbody tr th {\n        vertical-align: top;\n    }\n\n    .dataframe thead th {\n        text-align: right;\n    }\n</style>\n<table border=\"1\" class=\"dataframe\">\n  <thead>\n    <tr style=\"text-align: right;\">\n      <th></th>\n      <th>feature_names</th>\n      <th>coefficient</th>\n    </tr>\n  </thead>\n  <tbody>\n    <tr>\n      <th>0</th>\n      <td>count_1</td>\n      <td>0.338621</td>\n    </tr>\n    <tr>\n      <th>1</th>\n      <td>routine_flg</td>\n      <td>0.119191</td>\n    </tr>\n    <tr>\n      <th>2</th>\n      <td>period</td>\n      <td>0.536829</td>\n    </tr>\n    <tr>\n      <th>3</th>\n      <td>campaign_name_入会費半額</td>\n      <td>0.000000</td>\n    </tr>\n    <tr>\n      <th>4</th>\n      <td>campaign_name_入会費無料</td>\n      <td>0.005359</td>\n    </tr>\n    <tr>\n      <th>5</th>\n      <td>class_name_オールタイム</td>\n      <td>0.000000</td>\n    </tr>\n    <tr>\n      <th>6</th>\n      <td>class_name_デイタイム</td>\n      <td>0.000000</td>\n    </tr>\n    <tr>\n      <th>7</th>\n      <td>gender_F</td>\n      <td>0.000000</td>\n    </tr>\n  </tbody>\n</table>\n</div>"
     },
     "metadata": {},
     "execution_count": 132
    }
   ],
   "source": [
    "importance = pd.DataFrame({'feature_names': X.columns, 'coefficient': model.feature_importances_})\n",
    "importance"
   ]
  },
  {
   "cell_type": "markdown",
   "metadata": {},
   "source": [
    "### ノック50：顧客の退会を予測しよう"
   ]
  },
  {
   "cell_type": "code",
   "execution_count": 133,
   "metadata": {},
   "outputs": [],
   "source": [
    "count_1 = 3\n",
    "routine_flg = 1\n",
    "period = 10\n",
    "campaign_name = '入会費無料'\n",
    "class_name = 'オールタイム'\n",
    "gender = 'M'"
   ]
  },
  {
   "cell_type": "code",
   "execution_count": 136,
   "metadata": {},
   "outputs": [
    {
     "output_type": "execute_result",
     "data": {
      "text/plain": "[3, 1, 10, 0, 1, 1, 0, 0]"
     },
     "metadata": {},
     "execution_count": 136
    }
   ],
   "source": [
    "if campaign_name == '入会費半額':\n",
    "    campaign_name_list = [1, 0]\n",
    "elif campaign_name == '入会費無料':\n",
    "    campaign_name_list = [0, 1]\n",
    "else:\n",
    "    campaign_name_list = [0, 0]\n",
    "\n",
    "if class_name == 'オールタイム':\n",
    "    class_name_list = [1, 0]\n",
    "elif class_name == 'デイタイム':\n",
    "    class_name_list = [0, 1]\n",
    "else:\n",
    "    class_name_list = [0, 0]\n",
    "\n",
    "if gender == 'F':\n",
    "    gender_list = [1]\n",
    "else:\n",
    "    gender_list = [0]\n",
    "\n",
    "input_data = [count_1, routine_flg, period]\n",
    "input_data.extend(campaign_name_list)\n",
    "input_data.extend(class_name_list)\n",
    "input_data.extend(gender_list)\n",
    "\n",
    "input_data"
   ]
  },
  {
   "cell_type": "code",
   "execution_count": 135,
   "metadata": {
    "tags": []
   },
   "outputs": [
    {
     "output_type": "stream",
     "name": "stdout",
     "text": "[1.]\n"
    },
    {
     "output_type": "error",
     "ename": "NameError",
     "evalue": "name 'input_daat' is not defined",
     "traceback": [
      "\u001b[0;31m---------------------------------------------------------------------------\u001b[0m",
      "\u001b[0;31mNameError\u001b[0m                                 Traceback (most recent call last)",
      "\u001b[0;32m<ipython-input-135-dd36d5a92fed>\u001b[0m in \u001b[0;36m<module>\u001b[0;34m\u001b[0m\n\u001b[1;32m      1\u001b[0m \u001b[0mprint\u001b[0m\u001b[0;34m(\u001b[0m\u001b[0mmodel\u001b[0m\u001b[0;34m.\u001b[0m\u001b[0mpredict\u001b[0m\u001b[0;34m(\u001b[0m\u001b[0;34m[\u001b[0m\u001b[0minput_data\u001b[0m\u001b[0;34m]\u001b[0m\u001b[0;34m)\u001b[0m\u001b[0;34m)\u001b[0m\u001b[0;34m\u001b[0m\u001b[0;34m\u001b[0m\u001b[0m\n\u001b[0;32m----> 2\u001b[0;31m \u001b[0mprint\u001b[0m\u001b[0;34m(\u001b[0m\u001b[0mmodel\u001b[0m\u001b[0;34m.\u001b[0m\u001b[0mpredict_proba\u001b[0m\u001b[0;34m(\u001b[0m\u001b[0;34m[\u001b[0m\u001b[0minput_daat\u001b[0m\u001b[0;34m]\u001b[0m\u001b[0;34m)\u001b[0m\u001b[0;34m)\u001b[0m\u001b[0;34m\u001b[0m\u001b[0;34m\u001b[0m\u001b[0m\n\u001b[0m",
      "\u001b[0;31mNameError\u001b[0m: name 'input_daat' is not defined"
     ]
    }
   ],
   "source": [
    "print(model.predict([input_data]))\n",
    "print(model.predict_proba([input_data]))"
   ]
  },
  {
   "cell_type": "code",
   "execution_count": null,
   "metadata": {},
   "outputs": [],
   "source": []
  }
 ],
 "metadata": {
  "kernelspec": {
   "display_name": "Python 3",
   "language": "python",
   "name": "python3"
  },
  "language_info": {
   "codemirror_mode": {
    "name": "ipython",
    "version": 3
   },
   "file_extension": ".py",
   "mimetype": "text/x-python",
   "name": "python",
   "nbconvert_exporter": "python",
   "pygments_lexer": "ipython3",
   "version": "3.6.4"
  }
 },
 "nbformat": 4,
 "nbformat_minor": 2
}