{
 "cells": [
  {
   "cell_type": "markdown",
   "metadata": {},
   "source": [
    "# 6章 物流の最適ルートをコンサルティングする１０本ノック\n",
    "\n",
    "ここでは、「物流」の基礎となる「輸送最適化」を検討するにあたっての基礎的な技術を習得します。  \n",
    "実際の物流データからネットワーク構造を可視化する方法について学び、最適な物流計画を立案する流れを学んでいきます。"
   ]
  },
  {
   "cell_type": "markdown",
   "metadata": {},
   "source": [
    "### ノック５１：物流に関するデータを読み込んでみよう"
   ]
  },
  {
   "cell_type": "code",
   "execution_count": 22,
   "metadata": {},
   "outputs": [
    {
     "output_type": "execute_result",
     "data": {
      "text/plain": "      FCID FCName  FCDemand FCRegion\n0  FC00001   東京工場        28       関東\n1  FC00002  木更津工場        29       関東\n2  FC00003   多摩工場        31       関東\n3  FC00004  横須賀工場        25       関東\n4  FC00005   仙台工場        21       東北\n5  FC00006   山形工場        30       東北\n6  FC00007   那須工場        25       東北\n7  FC00008   青森工場        16       東北",
      "text/html": "<div>\n<style scoped>\n    .dataframe tbody tr th:only-of-type {\n        vertical-align: middle;\n    }\n\n    .dataframe tbody tr th {\n        vertical-align: top;\n    }\n\n    .dataframe thead th {\n        text-align: right;\n    }\n</style>\n<table border=\"1\" class=\"dataframe\">\n  <thead>\n    <tr style=\"text-align: right;\">\n      <th></th>\n      <th>FCID</th>\n      <th>FCName</th>\n      <th>FCDemand</th>\n      <th>FCRegion</th>\n    </tr>\n  </thead>\n  <tbody>\n    <tr>\n      <th>0</th>\n      <td>FC00001</td>\n      <td>東京工場</td>\n      <td>28</td>\n      <td>関東</td>\n    </tr>\n    <tr>\n      <th>1</th>\n      <td>FC00002</td>\n      <td>木更津工場</td>\n      <td>29</td>\n      <td>関東</td>\n    </tr>\n    <tr>\n      <th>2</th>\n      <td>FC00003</td>\n      <td>多摩工場</td>\n      <td>31</td>\n      <td>関東</td>\n    </tr>\n    <tr>\n      <th>3</th>\n      <td>FC00004</td>\n      <td>横須賀工場</td>\n      <td>25</td>\n      <td>関東</td>\n    </tr>\n    <tr>\n      <th>4</th>\n      <td>FC00005</td>\n      <td>仙台工場</td>\n      <td>21</td>\n      <td>東北</td>\n    </tr>\n    <tr>\n      <th>5</th>\n      <td>FC00006</td>\n      <td>山形工場</td>\n      <td>30</td>\n      <td>東北</td>\n    </tr>\n    <tr>\n      <th>6</th>\n      <td>FC00007</td>\n      <td>那須工場</td>\n      <td>25</td>\n      <td>東北</td>\n    </tr>\n    <tr>\n      <th>7</th>\n      <td>FC00008</td>\n      <td>青森工場</td>\n      <td>16</td>\n      <td>東北</td>\n    </tr>\n  </tbody>\n</table>\n</div>"
     },
     "metadata": {},
     "execution_count": 22
    }
   ],
   "source": [
    "import pandas as pd\n",
    "factories = pd.read_csv('tbl_factory.csv')\n",
    "factories"
   ]
  },
  {
   "cell_type": "code",
   "execution_count": 23,
   "metadata": {},
   "outputs": [
    {
     "output_type": "execute_result",
     "data": {
      "text/plain": "      WHID WHName  WHSupply WHRegion\n0  WH00001   杉並倉庫        35       関東\n1  WH00002   品川倉庫        41       関東\n2  WH00003   豊洲倉庫        42       関東\n3  WH00004   郡山倉庫        60       東北\n4  WH00005   仙台倉庫        72       東北\n5  WH00006   山形倉庫        65       東北",
      "text/html": "<div>\n<style scoped>\n    .dataframe tbody tr th:only-of-type {\n        vertical-align: middle;\n    }\n\n    .dataframe tbody tr th {\n        vertical-align: top;\n    }\n\n    .dataframe thead th {\n        text-align: right;\n    }\n</style>\n<table border=\"1\" class=\"dataframe\">\n  <thead>\n    <tr style=\"text-align: right;\">\n      <th></th>\n      <th>WHID</th>\n      <th>WHName</th>\n      <th>WHSupply</th>\n      <th>WHRegion</th>\n    </tr>\n  </thead>\n  <tbody>\n    <tr>\n      <th>0</th>\n      <td>WH00001</td>\n      <td>杉並倉庫</td>\n      <td>35</td>\n      <td>関東</td>\n    </tr>\n    <tr>\n      <th>1</th>\n      <td>WH00002</td>\n      <td>品川倉庫</td>\n      <td>41</td>\n      <td>関東</td>\n    </tr>\n    <tr>\n      <th>2</th>\n      <td>WH00003</td>\n      <td>豊洲倉庫</td>\n      <td>42</td>\n      <td>関東</td>\n    </tr>\n    <tr>\n      <th>3</th>\n      <td>WH00004</td>\n      <td>郡山倉庫</td>\n      <td>60</td>\n      <td>東北</td>\n    </tr>\n    <tr>\n      <th>4</th>\n      <td>WH00005</td>\n      <td>仙台倉庫</td>\n      <td>72</td>\n      <td>東北</td>\n    </tr>\n    <tr>\n      <th>5</th>\n      <td>WH00006</td>\n      <td>山形倉庫</td>\n      <td>65</td>\n      <td>東北</td>\n    </tr>\n  </tbody>\n</table>\n</div>"
     },
     "metadata": {},
     "execution_count": 23
    }
   ],
   "source": [
    "warehouses = pd.read_csv('tbl_warehouse.csv')\n",
    "warehouses"
   ]
  },
  {
   "cell_type": "code",
   "execution_count": 24,
   "metadata": {},
   "outputs": [
    {
     "output_type": "execute_result",
     "data": {
      "text/plain": "    RCostID     FCID     WHID  Cost\n0         1  FC00001  WH00001   0.4\n1         2  FC00001  WH00002   0.8\n2         3  FC00001  WH00003   1.5\n3         4  FC00002  WH00001   0.9\n4         5  FC00002  WH00002   0.8\n5         6  FC00002  WH00003   1.6\n6         7  FC00003  WH00001   1.2\n7         8  FC00003  WH00002   1.3\n8         9  FC00003  WH00003   1.5\n9        10  FC00004  WH00001   0.8\n10       11  FC00004  WH00002   1.0\n11       12  FC00004  WH00003   1.1\n12       13  FC00005  WH00004   0.8\n13       14  FC00005  WH00005   0.3\n14       15  FC00005  WH00006   1.4\n15       16  FC00006  WH00004   0.9\n16       17  FC00006  WH00005   1.1\n17       18  FC00006  WH00006   0.7\n18       19  FC00007  WH00004   0.9\n19       20  FC00007  WH00005   1.2\n20       21  FC00007  WH00006   1.3\n21       22  FC00008  WH00004   1.5\n22       23  FC00008  WH00005   1.2\n23       24  FC00008  WH00006   1.3",
      "text/html": "<div>\n<style scoped>\n    .dataframe tbody tr th:only-of-type {\n        vertical-align: middle;\n    }\n\n    .dataframe tbody tr th {\n        vertical-align: top;\n    }\n\n    .dataframe thead th {\n        text-align: right;\n    }\n</style>\n<table border=\"1\" class=\"dataframe\">\n  <thead>\n    <tr style=\"text-align: right;\">\n      <th></th>\n      <th>RCostID</th>\n      <th>FCID</th>\n      <th>WHID</th>\n      <th>Cost</th>\n    </tr>\n  </thead>\n  <tbody>\n    <tr>\n      <th>0</th>\n      <td>1</td>\n      <td>FC00001</td>\n      <td>WH00001</td>\n      <td>0.4</td>\n    </tr>\n    <tr>\n      <th>1</th>\n      <td>2</td>\n      <td>FC00001</td>\n      <td>WH00002</td>\n      <td>0.8</td>\n    </tr>\n    <tr>\n      <th>2</th>\n      <td>3</td>\n      <td>FC00001</td>\n      <td>WH00003</td>\n      <td>1.5</td>\n    </tr>\n    <tr>\n      <th>3</th>\n      <td>4</td>\n      <td>FC00002</td>\n      <td>WH00001</td>\n      <td>0.9</td>\n    </tr>\n    <tr>\n      <th>4</th>\n      <td>5</td>\n      <td>FC00002</td>\n      <td>WH00002</td>\n      <td>0.8</td>\n    </tr>\n    <tr>\n      <th>5</th>\n      <td>6</td>\n      <td>FC00002</td>\n      <td>WH00003</td>\n      <td>1.6</td>\n    </tr>\n    <tr>\n      <th>6</th>\n      <td>7</td>\n      <td>FC00003</td>\n      <td>WH00001</td>\n      <td>1.2</td>\n    </tr>\n    <tr>\n      <th>7</th>\n      <td>8</td>\n      <td>FC00003</td>\n      <td>WH00002</td>\n      <td>1.3</td>\n    </tr>\n    <tr>\n      <th>8</th>\n      <td>9</td>\n      <td>FC00003</td>\n      <td>WH00003</td>\n      <td>1.5</td>\n    </tr>\n    <tr>\n      <th>9</th>\n      <td>10</td>\n      <td>FC00004</td>\n      <td>WH00001</td>\n      <td>0.8</td>\n    </tr>\n    <tr>\n      <th>10</th>\n      <td>11</td>\n      <td>FC00004</td>\n      <td>WH00002</td>\n      <td>1.0</td>\n    </tr>\n    <tr>\n      <th>11</th>\n      <td>12</td>\n      <td>FC00004</td>\n      <td>WH00003</td>\n      <td>1.1</td>\n    </tr>\n    <tr>\n      <th>12</th>\n      <td>13</td>\n      <td>FC00005</td>\n      <td>WH00004</td>\n      <td>0.8</td>\n    </tr>\n    <tr>\n      <th>13</th>\n      <td>14</td>\n      <td>FC00005</td>\n      <td>WH00005</td>\n      <td>0.3</td>\n    </tr>\n    <tr>\n      <th>14</th>\n      <td>15</td>\n      <td>FC00005</td>\n      <td>WH00006</td>\n      <td>1.4</td>\n    </tr>\n    <tr>\n      <th>15</th>\n      <td>16</td>\n      <td>FC00006</td>\n      <td>WH00004</td>\n      <td>0.9</td>\n    </tr>\n    <tr>\n      <th>16</th>\n      <td>17</td>\n      <td>FC00006</td>\n      <td>WH00005</td>\n      <td>1.1</td>\n    </tr>\n    <tr>\n      <th>17</th>\n      <td>18</td>\n      <td>FC00006</td>\n      <td>WH00006</td>\n      <td>0.7</td>\n    </tr>\n    <tr>\n      <th>18</th>\n      <td>19</td>\n      <td>FC00007</td>\n      <td>WH00004</td>\n      <td>0.9</td>\n    </tr>\n    <tr>\n      <th>19</th>\n      <td>20</td>\n      <td>FC00007</td>\n      <td>WH00005</td>\n      <td>1.2</td>\n    </tr>\n    <tr>\n      <th>20</th>\n      <td>21</td>\n      <td>FC00007</td>\n      <td>WH00006</td>\n      <td>1.3</td>\n    </tr>\n    <tr>\n      <th>21</th>\n      <td>22</td>\n      <td>FC00008</td>\n      <td>WH00004</td>\n      <td>1.5</td>\n    </tr>\n    <tr>\n      <th>22</th>\n      <td>23</td>\n      <td>FC00008</td>\n      <td>WH00005</td>\n      <td>1.2</td>\n    </tr>\n    <tr>\n      <th>23</th>\n      <td>24</td>\n      <td>FC00008</td>\n      <td>WH00006</td>\n      <td>1.3</td>\n    </tr>\n  </tbody>\n</table>\n</div>"
     },
     "metadata": {},
     "execution_count": 24
    }
   ],
   "source": [
    "cost = pd.read_csv('rel_cost.csv')\n",
    "cost"
   ]
  },
  {
   "cell_type": "code",
   "execution_count": 25,
   "metadata": {},
   "outputs": [
    {
     "output_type": "execute_result",
     "data": {
      "text/plain": "      TRID      TransactionDate     ToFC   FromWH  Quantity\n0        0  2019-01-01 02:11:10  FC00004  WH00003        33\n1        1  2019-01-01 06:12:42  FC00007  WH00006        19\n2        2  2019-01-01 06:32:32  FC00006  WH00004        31\n3        3  2019-01-01 07:17:06  FC00002  WH00003        18\n4        4  2019-01-01 07:52:18  FC00001  WH00002        30\n...    ...                  ...      ...      ...       ...\n3995  3995  2019-12-31 11:27:51  FC00007  WH00006        29\n3996  3996  2019-12-31 17:10:21  FC00002  WH00003        35\n3997  3997  2019-12-31 19:35:07  FC00003  WH00001        36\n3998  3998  2019-12-31 21:45:07  FC00005  WH00005        34\n3999  3999  2019-12-31 23:19:37  FC00005  WH00005        16\n\n[4000 rows x 5 columns]",
      "text/html": "<div>\n<style scoped>\n    .dataframe tbody tr th:only-of-type {\n        vertical-align: middle;\n    }\n\n    .dataframe tbody tr th {\n        vertical-align: top;\n    }\n\n    .dataframe thead th {\n        text-align: right;\n    }\n</style>\n<table border=\"1\" class=\"dataframe\">\n  <thead>\n    <tr style=\"text-align: right;\">\n      <th></th>\n      <th>TRID</th>\n      <th>TransactionDate</th>\n      <th>ToFC</th>\n      <th>FromWH</th>\n      <th>Quantity</th>\n    </tr>\n  </thead>\n  <tbody>\n    <tr>\n      <th>0</th>\n      <td>0</td>\n      <td>2019-01-01 02:11:10</td>\n      <td>FC00004</td>\n      <td>WH00003</td>\n      <td>33</td>\n    </tr>\n    <tr>\n      <th>1</th>\n      <td>1</td>\n      <td>2019-01-01 06:12:42</td>\n      <td>FC00007</td>\n      <td>WH00006</td>\n      <td>19</td>\n    </tr>\n    <tr>\n      <th>2</th>\n      <td>2</td>\n      <td>2019-01-01 06:32:32</td>\n      <td>FC00006</td>\n      <td>WH00004</td>\n      <td>31</td>\n    </tr>\n    <tr>\n      <th>3</th>\n      <td>3</td>\n      <td>2019-01-01 07:17:06</td>\n      <td>FC00002</td>\n      <td>WH00003</td>\n      <td>18</td>\n    </tr>\n    <tr>\n      <th>4</th>\n      <td>4</td>\n      <td>2019-01-01 07:52:18</td>\n      <td>FC00001</td>\n      <td>WH00002</td>\n      <td>30</td>\n    </tr>\n    <tr>\n      <th>...</th>\n      <td>...</td>\n      <td>...</td>\n      <td>...</td>\n      <td>...</td>\n      <td>...</td>\n    </tr>\n    <tr>\n      <th>3995</th>\n      <td>3995</td>\n      <td>2019-12-31 11:27:51</td>\n      <td>FC00007</td>\n      <td>WH00006</td>\n      <td>29</td>\n    </tr>\n    <tr>\n      <th>3996</th>\n      <td>3996</td>\n      <td>2019-12-31 17:10:21</td>\n      <td>FC00002</td>\n      <td>WH00003</td>\n      <td>35</td>\n    </tr>\n    <tr>\n      <th>3997</th>\n      <td>3997</td>\n      <td>2019-12-31 19:35:07</td>\n      <td>FC00003</td>\n      <td>WH00001</td>\n      <td>36</td>\n    </tr>\n    <tr>\n      <th>3998</th>\n      <td>3998</td>\n      <td>2019-12-31 21:45:07</td>\n      <td>FC00005</td>\n      <td>WH00005</td>\n      <td>34</td>\n    </tr>\n    <tr>\n      <th>3999</th>\n      <td>3999</td>\n      <td>2019-12-31 23:19:37</td>\n      <td>FC00005</td>\n      <td>WH00005</td>\n      <td>16</td>\n    </tr>\n  </tbody>\n</table>\n<p>4000 rows × 5 columns</p>\n</div>"
     },
     "metadata": {},
     "execution_count": 25
    }
   ],
   "source": [
    "trans = pd.read_csv('tbl_transaction.csv')\n",
    "trans"
   ]
  },
  {
   "cell_type": "code",
   "execution_count": 26,
   "metadata": {},
   "outputs": [
    {
     "output_type": "execute_result",
     "data": {
      "text/plain": "      TRID      TransactionDate     ToFC   FromWH  Quantity  RCostID     FCID  \\\n0        0  2019-01-01 02:11:10  FC00004  WH00003        33       12  FC00004   \n1        1  2019-01-01 06:12:42  FC00007  WH00006        19       21  FC00007   \n2        2  2019-01-01 06:32:32  FC00006  WH00004        31       16  FC00006   \n3        3  2019-01-01 07:17:06  FC00002  WH00003        18        6  FC00002   \n4        4  2019-01-01 07:52:18  FC00001  WH00002        30        2  FC00001   \n...    ...                  ...      ...      ...       ...      ...      ...   \n3995  3995  2019-12-31 11:27:51  FC00007  WH00006        29       21  FC00007   \n3996  3996  2019-12-31 17:10:21  FC00002  WH00003        35        6  FC00002   \n3997  3997  2019-12-31 19:35:07  FC00003  WH00001        36        7  FC00003   \n3998  3998  2019-12-31 21:45:07  FC00005  WH00005        34       14  FC00005   \n3999  3999  2019-12-31 23:19:37  FC00005  WH00005        16       14  FC00005   \n\n         WHID  Cost  \n0     WH00003   1.1  \n1     WH00006   1.3  \n2     WH00004   0.9  \n3     WH00003   1.6  \n4     WH00002   0.8  \n...       ...   ...  \n3995  WH00006   1.3  \n3996  WH00003   1.6  \n3997  WH00001   1.2  \n3998  WH00005   0.3  \n3999  WH00005   0.3  \n\n[4000 rows x 9 columns]",
      "text/html": "<div>\n<style scoped>\n    .dataframe tbody tr th:only-of-type {\n        vertical-align: middle;\n    }\n\n    .dataframe tbody tr th {\n        vertical-align: top;\n    }\n\n    .dataframe thead th {\n        text-align: right;\n    }\n</style>\n<table border=\"1\" class=\"dataframe\">\n  <thead>\n    <tr style=\"text-align: right;\">\n      <th></th>\n      <th>TRID</th>\n      <th>TransactionDate</th>\n      <th>ToFC</th>\n      <th>FromWH</th>\n      <th>Quantity</th>\n      <th>RCostID</th>\n      <th>FCID</th>\n      <th>WHID</th>\n      <th>Cost</th>\n    </tr>\n  </thead>\n  <tbody>\n    <tr>\n      <th>0</th>\n      <td>0</td>\n      <td>2019-01-01 02:11:10</td>\n      <td>FC00004</td>\n      <td>WH00003</td>\n      <td>33</td>\n      <td>12</td>\n      <td>FC00004</td>\n      <td>WH00003</td>\n      <td>1.1</td>\n    </tr>\n    <tr>\n      <th>1</th>\n      <td>1</td>\n      <td>2019-01-01 06:12:42</td>\n      <td>FC00007</td>\n      <td>WH00006</td>\n      <td>19</td>\n      <td>21</td>\n      <td>FC00007</td>\n      <td>WH00006</td>\n      <td>1.3</td>\n    </tr>\n    <tr>\n      <th>2</th>\n      <td>2</td>\n      <td>2019-01-01 06:32:32</td>\n      <td>FC00006</td>\n      <td>WH00004</td>\n      <td>31</td>\n      <td>16</td>\n      <td>FC00006</td>\n      <td>WH00004</td>\n      <td>0.9</td>\n    </tr>\n    <tr>\n      <th>3</th>\n      <td>3</td>\n      <td>2019-01-01 07:17:06</td>\n      <td>FC00002</td>\n      <td>WH00003</td>\n      <td>18</td>\n      <td>6</td>\n      <td>FC00002</td>\n      <td>WH00003</td>\n      <td>1.6</td>\n    </tr>\n    <tr>\n      <th>4</th>\n      <td>4</td>\n      <td>2019-01-01 07:52:18</td>\n      <td>FC00001</td>\n      <td>WH00002</td>\n      <td>30</td>\n      <td>2</td>\n      <td>FC00001</td>\n      <td>WH00002</td>\n      <td>0.8</td>\n    </tr>\n    <tr>\n      <th>...</th>\n      <td>...</td>\n      <td>...</td>\n      <td>...</td>\n      <td>...</td>\n      <td>...</td>\n      <td>...</td>\n      <td>...</td>\n      <td>...</td>\n      <td>...</td>\n    </tr>\n    <tr>\n      <th>3995</th>\n      <td>3995</td>\n      <td>2019-12-31 11:27:51</td>\n      <td>FC00007</td>\n      <td>WH00006</td>\n      <td>29</td>\n      <td>21</td>\n      <td>FC00007</td>\n      <td>WH00006</td>\n      <td>1.3</td>\n    </tr>\n    <tr>\n      <th>3996</th>\n      <td>3996</td>\n      <td>2019-12-31 17:10:21</td>\n      <td>FC00002</td>\n      <td>WH00003</td>\n      <td>35</td>\n      <td>6</td>\n      <td>FC00002</td>\n      <td>WH00003</td>\n      <td>1.6</td>\n    </tr>\n    <tr>\n      <th>3997</th>\n      <td>3997</td>\n      <td>2019-12-31 19:35:07</td>\n      <td>FC00003</td>\n      <td>WH00001</td>\n      <td>36</td>\n      <td>7</td>\n      <td>FC00003</td>\n      <td>WH00001</td>\n      <td>1.2</td>\n    </tr>\n    <tr>\n      <th>3998</th>\n      <td>3998</td>\n      <td>2019-12-31 21:45:07</td>\n      <td>FC00005</td>\n      <td>WH00005</td>\n      <td>34</td>\n      <td>14</td>\n      <td>FC00005</td>\n      <td>WH00005</td>\n      <td>0.3</td>\n    </tr>\n    <tr>\n      <th>3999</th>\n      <td>3999</td>\n      <td>2019-12-31 23:19:37</td>\n      <td>FC00005</td>\n      <td>WH00005</td>\n      <td>16</td>\n      <td>14</td>\n      <td>FC00005</td>\n      <td>WH00005</td>\n      <td>0.3</td>\n    </tr>\n  </tbody>\n</table>\n<p>4000 rows × 9 columns</p>\n</div>"
     },
     "metadata": {},
     "execution_count": 26
    }
   ],
   "source": [
    "join_data = pd.merge(trans, cost, left_on=['ToFC', 'FromWH'], right_on=['FCID', 'WHID'], how='left')\n",
    "join_data"
   ]
  },
  {
   "cell_type": "code",
   "execution_count": 27,
   "metadata": {},
   "outputs": [
    {
     "output_type": "execute_result",
     "data": {
      "text/plain": "      TRID      TransactionDate     ToFC   FromWH  Quantity  RCostID     FCID  \\\n0        0  2019-01-01 02:11:10  FC00004  WH00003        33       12  FC00004   \n1        1  2019-01-01 06:12:42  FC00007  WH00006        19       21  FC00007   \n2        2  2019-01-01 06:32:32  FC00006  WH00004        31       16  FC00006   \n3        3  2019-01-01 07:17:06  FC00002  WH00003        18        6  FC00002   \n4        4  2019-01-01 07:52:18  FC00001  WH00002        30        2  FC00001   \n...    ...                  ...      ...      ...       ...      ...      ...   \n3995  3995  2019-12-31 11:27:51  FC00007  WH00006        29       21  FC00007   \n3996  3996  2019-12-31 17:10:21  FC00002  WH00003        35        6  FC00002   \n3997  3997  2019-12-31 19:35:07  FC00003  WH00001        36        7  FC00003   \n3998  3998  2019-12-31 21:45:07  FC00005  WH00005        34       14  FC00005   \n3999  3999  2019-12-31 23:19:37  FC00005  WH00005        16       14  FC00005   \n\n         WHID  Cost FCName  FCDemand FCRegion  \n0     WH00003   1.1  横須賀工場        25       関東  \n1     WH00006   1.3   那須工場        25       東北  \n2     WH00004   0.9   山形工場        30       東北  \n3     WH00003   1.6  木更津工場        29       関東  \n4     WH00002   0.8   東京工場        28       関東  \n...       ...   ...    ...       ...      ...  \n3995  WH00006   1.3   那須工場        25       東北  \n3996  WH00003   1.6  木更津工場        29       関東  \n3997  WH00001   1.2   多摩工場        31       関東  \n3998  WH00005   0.3   仙台工場        21       東北  \n3999  WH00005   0.3   仙台工場        21       東北  \n\n[4000 rows x 12 columns]",
      "text/html": "<div>\n<style scoped>\n    .dataframe tbody tr th:only-of-type {\n        vertical-align: middle;\n    }\n\n    .dataframe tbody tr th {\n        vertical-align: top;\n    }\n\n    .dataframe thead th {\n        text-align: right;\n    }\n</style>\n<table border=\"1\" class=\"dataframe\">\n  <thead>\n    <tr style=\"text-align: right;\">\n      <th></th>\n      <th>TRID</th>\n      <th>TransactionDate</th>\n      <th>ToFC</th>\n      <th>FromWH</th>\n      <th>Quantity</th>\n      <th>RCostID</th>\n      <th>FCID</th>\n      <th>WHID</th>\n      <th>Cost</th>\n      <th>FCName</th>\n      <th>FCDemand</th>\n      <th>FCRegion</th>\n    </tr>\n  </thead>\n  <tbody>\n    <tr>\n      <th>0</th>\n      <td>0</td>\n      <td>2019-01-01 02:11:10</td>\n      <td>FC00004</td>\n      <td>WH00003</td>\n      <td>33</td>\n      <td>12</td>\n      <td>FC00004</td>\n      <td>WH00003</td>\n      <td>1.1</td>\n      <td>横須賀工場</td>\n      <td>25</td>\n      <td>関東</td>\n    </tr>\n    <tr>\n      <th>1</th>\n      <td>1</td>\n      <td>2019-01-01 06:12:42</td>\n      <td>FC00007</td>\n      <td>WH00006</td>\n      <td>19</td>\n      <td>21</td>\n      <td>FC00007</td>\n      <td>WH00006</td>\n      <td>1.3</td>\n      <td>那須工場</td>\n      <td>25</td>\n      <td>東北</td>\n    </tr>\n    <tr>\n      <th>2</th>\n      <td>2</td>\n      <td>2019-01-01 06:32:32</td>\n      <td>FC00006</td>\n      <td>WH00004</td>\n      <td>31</td>\n      <td>16</td>\n      <td>FC00006</td>\n      <td>WH00004</td>\n      <td>0.9</td>\n      <td>山形工場</td>\n      <td>30</td>\n      <td>東北</td>\n    </tr>\n    <tr>\n      <th>3</th>\n      <td>3</td>\n      <td>2019-01-01 07:17:06</td>\n      <td>FC00002</td>\n      <td>WH00003</td>\n      <td>18</td>\n      <td>6</td>\n      <td>FC00002</td>\n      <td>WH00003</td>\n      <td>1.6</td>\n      <td>木更津工場</td>\n      <td>29</td>\n      <td>関東</td>\n    </tr>\n    <tr>\n      <th>4</th>\n      <td>4</td>\n      <td>2019-01-01 07:52:18</td>\n      <td>FC00001</td>\n      <td>WH00002</td>\n      <td>30</td>\n      <td>2</td>\n      <td>FC00001</td>\n      <td>WH00002</td>\n      <td>0.8</td>\n      <td>東京工場</td>\n      <td>28</td>\n      <td>関東</td>\n    </tr>\n    <tr>\n      <th>...</th>\n      <td>...</td>\n      <td>...</td>\n      <td>...</td>\n      <td>...</td>\n      <td>...</td>\n      <td>...</td>\n      <td>...</td>\n      <td>...</td>\n      <td>...</td>\n      <td>...</td>\n      <td>...</td>\n      <td>...</td>\n    </tr>\n    <tr>\n      <th>3995</th>\n      <td>3995</td>\n      <td>2019-12-31 11:27:51</td>\n      <td>FC00007</td>\n      <td>WH00006</td>\n      <td>29</td>\n      <td>21</td>\n      <td>FC00007</td>\n      <td>WH00006</td>\n      <td>1.3</td>\n      <td>那須工場</td>\n      <td>25</td>\n      <td>東北</td>\n    </tr>\n    <tr>\n      <th>3996</th>\n      <td>3996</td>\n      <td>2019-12-31 17:10:21</td>\n      <td>FC00002</td>\n      <td>WH00003</td>\n      <td>35</td>\n      <td>6</td>\n      <td>FC00002</td>\n      <td>WH00003</td>\n      <td>1.6</td>\n      <td>木更津工場</td>\n      <td>29</td>\n      <td>関東</td>\n    </tr>\n    <tr>\n      <th>3997</th>\n      <td>3997</td>\n      <td>2019-12-31 19:35:07</td>\n      <td>FC00003</td>\n      <td>WH00001</td>\n      <td>36</td>\n      <td>7</td>\n      <td>FC00003</td>\n      <td>WH00001</td>\n      <td>1.2</td>\n      <td>多摩工場</td>\n      <td>31</td>\n      <td>関東</td>\n    </tr>\n    <tr>\n      <th>3998</th>\n      <td>3998</td>\n      <td>2019-12-31 21:45:07</td>\n      <td>FC00005</td>\n      <td>WH00005</td>\n      <td>34</td>\n      <td>14</td>\n      <td>FC00005</td>\n      <td>WH00005</td>\n      <td>0.3</td>\n      <td>仙台工場</td>\n      <td>21</td>\n      <td>東北</td>\n    </tr>\n    <tr>\n      <th>3999</th>\n      <td>3999</td>\n      <td>2019-12-31 23:19:37</td>\n      <td>FC00005</td>\n      <td>WH00005</td>\n      <td>16</td>\n      <td>14</td>\n      <td>FC00005</td>\n      <td>WH00005</td>\n      <td>0.3</td>\n      <td>仙台工場</td>\n      <td>21</td>\n      <td>東北</td>\n    </tr>\n  </tbody>\n</table>\n<p>4000 rows × 12 columns</p>\n</div>"
     },
     "metadata": {},
     "execution_count": 27
    }
   ],
   "source": [
    "join_data = pd.merge(join_data, factories, on='FCID', how='left')\n",
    "join_data"
   ]
  },
  {
   "cell_type": "code",
   "execution_count": 28,
   "metadata": {},
   "outputs": [
    {
     "output_type": "execute_result",
     "data": {
      "text/plain": "          TransactionDate  Quantity  Cost     ToFC FCName  FCDemand   FromWH  \\\n0     2019-01-01 02:11:10        33   1.1  FC00004  横須賀工場        25  WH00003   \n1     2019-01-01 06:12:42        19   1.3  FC00007   那須工場        25  WH00006   \n2     2019-01-01 06:32:32        31   0.9  FC00006   山形工場        30  WH00004   \n3     2019-01-01 07:17:06        18   1.6  FC00002  木更津工場        29  WH00003   \n4     2019-01-01 07:52:18        30   0.8  FC00001   東京工場        28  WH00002   \n...                   ...       ...   ...      ...    ...       ...      ...   \n3995  2019-12-31 11:27:51        29   1.3  FC00007   那須工場        25  WH00006   \n3996  2019-12-31 17:10:21        35   1.6  FC00002  木更津工場        29  WH00003   \n3997  2019-12-31 19:35:07        36   1.2  FC00003   多摩工場        31  WH00001   \n3998  2019-12-31 21:45:07        34   0.3  FC00005   仙台工場        21  WH00005   \n3999  2019-12-31 23:19:37        16   0.3  FC00005   仙台工場        21  WH00005   \n\n     WHName  WHSupply WHRegion  \n0      豊洲倉庫        42       関東  \n1      山形倉庫        65       東北  \n2      郡山倉庫        60       東北  \n3      豊洲倉庫        42       関東  \n4      品川倉庫        41       関東  \n...     ...       ...      ...  \n3995   山形倉庫        65       東北  \n3996   豊洲倉庫        42       関東  \n3997   杉並倉庫        35       関東  \n3998   仙台倉庫        72       東北  \n3999   仙台倉庫        72       東北  \n\n[4000 rows x 10 columns]",
      "text/html": "<div>\n<style scoped>\n    .dataframe tbody tr th:only-of-type {\n        vertical-align: middle;\n    }\n\n    .dataframe tbody tr th {\n        vertical-align: top;\n    }\n\n    .dataframe thead th {\n        text-align: right;\n    }\n</style>\n<table border=\"1\" class=\"dataframe\">\n  <thead>\n    <tr style=\"text-align: right;\">\n      <th></th>\n      <th>TransactionDate</th>\n      <th>Quantity</th>\n      <th>Cost</th>\n      <th>ToFC</th>\n      <th>FCName</th>\n      <th>FCDemand</th>\n      <th>FromWH</th>\n      <th>WHName</th>\n      <th>WHSupply</th>\n      <th>WHRegion</th>\n    </tr>\n  </thead>\n  <tbody>\n    <tr>\n      <th>0</th>\n      <td>2019-01-01 02:11:10</td>\n      <td>33</td>\n      <td>1.1</td>\n      <td>FC00004</td>\n      <td>横須賀工場</td>\n      <td>25</td>\n      <td>WH00003</td>\n      <td>豊洲倉庫</td>\n      <td>42</td>\n      <td>関東</td>\n    </tr>\n    <tr>\n      <th>1</th>\n      <td>2019-01-01 06:12:42</td>\n      <td>19</td>\n      <td>1.3</td>\n      <td>FC00007</td>\n      <td>那須工場</td>\n      <td>25</td>\n      <td>WH00006</td>\n      <td>山形倉庫</td>\n      <td>65</td>\n      <td>東北</td>\n    </tr>\n    <tr>\n      <th>2</th>\n      <td>2019-01-01 06:32:32</td>\n      <td>31</td>\n      <td>0.9</td>\n      <td>FC00006</td>\n      <td>山形工場</td>\n      <td>30</td>\n      <td>WH00004</td>\n      <td>郡山倉庫</td>\n      <td>60</td>\n      <td>東北</td>\n    </tr>\n    <tr>\n      <th>3</th>\n      <td>2019-01-01 07:17:06</td>\n      <td>18</td>\n      <td>1.6</td>\n      <td>FC00002</td>\n      <td>木更津工場</td>\n      <td>29</td>\n      <td>WH00003</td>\n      <td>豊洲倉庫</td>\n      <td>42</td>\n      <td>関東</td>\n    </tr>\n    <tr>\n      <th>4</th>\n      <td>2019-01-01 07:52:18</td>\n      <td>30</td>\n      <td>0.8</td>\n      <td>FC00001</td>\n      <td>東京工場</td>\n      <td>28</td>\n      <td>WH00002</td>\n      <td>品川倉庫</td>\n      <td>41</td>\n      <td>関東</td>\n    </tr>\n    <tr>\n      <th>...</th>\n      <td>...</td>\n      <td>...</td>\n      <td>...</td>\n      <td>...</td>\n      <td>...</td>\n      <td>...</td>\n      <td>...</td>\n      <td>...</td>\n      <td>...</td>\n      <td>...</td>\n    </tr>\n    <tr>\n      <th>3995</th>\n      <td>2019-12-31 11:27:51</td>\n      <td>29</td>\n      <td>1.3</td>\n      <td>FC00007</td>\n      <td>那須工場</td>\n      <td>25</td>\n      <td>WH00006</td>\n      <td>山形倉庫</td>\n      <td>65</td>\n      <td>東北</td>\n    </tr>\n    <tr>\n      <th>3996</th>\n      <td>2019-12-31 17:10:21</td>\n      <td>35</td>\n      <td>1.6</td>\n      <td>FC00002</td>\n      <td>木更津工場</td>\n      <td>29</td>\n      <td>WH00003</td>\n      <td>豊洲倉庫</td>\n      <td>42</td>\n      <td>関東</td>\n    </tr>\n    <tr>\n      <th>3997</th>\n      <td>2019-12-31 19:35:07</td>\n      <td>36</td>\n      <td>1.2</td>\n      <td>FC00003</td>\n      <td>多摩工場</td>\n      <td>31</td>\n      <td>WH00001</td>\n      <td>杉並倉庫</td>\n      <td>35</td>\n      <td>関東</td>\n    </tr>\n    <tr>\n      <th>3998</th>\n      <td>2019-12-31 21:45:07</td>\n      <td>34</td>\n      <td>0.3</td>\n      <td>FC00005</td>\n      <td>仙台工場</td>\n      <td>21</td>\n      <td>WH00005</td>\n      <td>仙台倉庫</td>\n      <td>72</td>\n      <td>東北</td>\n    </tr>\n    <tr>\n      <th>3999</th>\n      <td>2019-12-31 23:19:37</td>\n      <td>16</td>\n      <td>0.3</td>\n      <td>FC00005</td>\n      <td>仙台工場</td>\n      <td>21</td>\n      <td>WH00005</td>\n      <td>仙台倉庫</td>\n      <td>72</td>\n      <td>東北</td>\n    </tr>\n  </tbody>\n</table>\n<p>4000 rows × 10 columns</p>\n</div>"
     },
     "metadata": {},
     "execution_count": 28
    }
   ],
   "source": [
    "join_data = pd.merge(join_data, warehouses, on='WHID', how='left')\n",
    "join_data = join_data[['TransactionDate', 'Quantity', 'Cost', 'ToFC', 'FCName', 'FCDemand', 'FromWH', 'WHName', 'WHSupply', 'WHRegion']]\n",
    "join_data"
   ]
  },
  {
   "cell_type": "code",
   "execution_count": 29,
   "metadata": {},
   "outputs": [
    {
     "output_type": "execute_result",
     "data": {
      "text/plain": "          TransactionDate  Quantity  Cost     ToFC FCName  FCDemand   FromWH  \\\n0     2019-01-01 02:11:10        33   1.1  FC00004  横須賀工場        25  WH00003   \n3     2019-01-01 07:17:06        18   1.6  FC00002  木更津工場        29  WH00003   \n4     2019-01-01 07:52:18        30   0.8  FC00001   東京工場        28  WH00002   \n7     2019-01-01 09:09:30        12   1.5  FC00001   東京工場        28  WH00003   \n8     2019-01-01 10:52:55        27   1.5  FC00003   多摩工場        31  WH00003   \n...                   ...       ...   ...      ...    ...       ...      ...   \n3984  2019-12-30 12:29:42        22   0.9  FC00002  木更津工場        29  WH00001   \n3987  2019-12-30 17:51:24        32   1.3  FC00003   多摩工場        31  WH00002   \n3992  2019-12-31 01:50:16        33   0.8  FC00001   東京工場        28  WH00002   \n3996  2019-12-31 17:10:21        35   1.6  FC00002  木更津工場        29  WH00003   \n3997  2019-12-31 19:35:07        36   1.2  FC00003   多摩工場        31  WH00001   \n\n     WHName  WHSupply WHRegion  \n0      豊洲倉庫        42       関東  \n3      豊洲倉庫        42       関東  \n4      品川倉庫        41       関東  \n7      豊洲倉庫        42       関東  \n8      豊洲倉庫        42       関東  \n...     ...       ...      ...  \n3984   杉並倉庫        35       関東  \n3987   品川倉庫        41       関東  \n3992   品川倉庫        41       関東  \n3996   豊洲倉庫        42       関東  \n3997   杉並倉庫        35       関東  \n\n[2000 rows x 10 columns]",
      "text/html": "<div>\n<style scoped>\n    .dataframe tbody tr th:only-of-type {\n        vertical-align: middle;\n    }\n\n    .dataframe tbody tr th {\n        vertical-align: top;\n    }\n\n    .dataframe thead th {\n        text-align: right;\n    }\n</style>\n<table border=\"1\" class=\"dataframe\">\n  <thead>\n    <tr style=\"text-align: right;\">\n      <th></th>\n      <th>TransactionDate</th>\n      <th>Quantity</th>\n      <th>Cost</th>\n      <th>ToFC</th>\n      <th>FCName</th>\n      <th>FCDemand</th>\n      <th>FromWH</th>\n      <th>WHName</th>\n      <th>WHSupply</th>\n      <th>WHRegion</th>\n    </tr>\n  </thead>\n  <tbody>\n    <tr>\n      <th>0</th>\n      <td>2019-01-01 02:11:10</td>\n      <td>33</td>\n      <td>1.1</td>\n      <td>FC00004</td>\n      <td>横須賀工場</td>\n      <td>25</td>\n      <td>WH00003</td>\n      <td>豊洲倉庫</td>\n      <td>42</td>\n      <td>関東</td>\n    </tr>\n    <tr>\n      <th>3</th>\n      <td>2019-01-01 07:17:06</td>\n      <td>18</td>\n      <td>1.6</td>\n      <td>FC00002</td>\n      <td>木更津工場</td>\n      <td>29</td>\n      <td>WH00003</td>\n      <td>豊洲倉庫</td>\n      <td>42</td>\n      <td>関東</td>\n    </tr>\n    <tr>\n      <th>4</th>\n      <td>2019-01-01 07:52:18</td>\n      <td>30</td>\n      <td>0.8</td>\n      <td>FC00001</td>\n      <td>東京工場</td>\n      <td>28</td>\n      <td>WH00002</td>\n      <td>品川倉庫</td>\n      <td>41</td>\n      <td>関東</td>\n    </tr>\n    <tr>\n      <th>7</th>\n      <td>2019-01-01 09:09:30</td>\n      <td>12</td>\n      <td>1.5</td>\n      <td>FC00001</td>\n      <td>東京工場</td>\n      <td>28</td>\n      <td>WH00003</td>\n      <td>豊洲倉庫</td>\n      <td>42</td>\n      <td>関東</td>\n    </tr>\n    <tr>\n      <th>8</th>\n      <td>2019-01-01 10:52:55</td>\n      <td>27</td>\n      <td>1.5</td>\n      <td>FC00003</td>\n      <td>多摩工場</td>\n      <td>31</td>\n      <td>WH00003</td>\n      <td>豊洲倉庫</td>\n      <td>42</td>\n      <td>関東</td>\n    </tr>\n    <tr>\n      <th>...</th>\n      <td>...</td>\n      <td>...</td>\n      <td>...</td>\n      <td>...</td>\n      <td>...</td>\n      <td>...</td>\n      <td>...</td>\n      <td>...</td>\n      <td>...</td>\n      <td>...</td>\n    </tr>\n    <tr>\n      <th>3984</th>\n      <td>2019-12-30 12:29:42</td>\n      <td>22</td>\n      <td>0.9</td>\n      <td>FC00002</td>\n      <td>木更津工場</td>\n      <td>29</td>\n      <td>WH00001</td>\n      <td>杉並倉庫</td>\n      <td>35</td>\n      <td>関東</td>\n    </tr>\n    <tr>\n      <th>3987</th>\n      <td>2019-12-30 17:51:24</td>\n      <td>32</td>\n      <td>1.3</td>\n      <td>FC00003</td>\n      <td>多摩工場</td>\n      <td>31</td>\n      <td>WH00002</td>\n      <td>品川倉庫</td>\n      <td>41</td>\n      <td>関東</td>\n    </tr>\n    <tr>\n      <th>3992</th>\n      <td>2019-12-31 01:50:16</td>\n      <td>33</td>\n      <td>0.8</td>\n      <td>FC00001</td>\n      <td>東京工場</td>\n      <td>28</td>\n      <td>WH00002</td>\n      <td>品川倉庫</td>\n      <td>41</td>\n      <td>関東</td>\n    </tr>\n    <tr>\n      <th>3996</th>\n      <td>2019-12-31 17:10:21</td>\n      <td>35</td>\n      <td>1.6</td>\n      <td>FC00002</td>\n      <td>木更津工場</td>\n      <td>29</td>\n      <td>WH00003</td>\n      <td>豊洲倉庫</td>\n      <td>42</td>\n      <td>関東</td>\n    </tr>\n    <tr>\n      <th>3997</th>\n      <td>2019-12-31 19:35:07</td>\n      <td>36</td>\n      <td>1.2</td>\n      <td>FC00003</td>\n      <td>多摩工場</td>\n      <td>31</td>\n      <td>WH00001</td>\n      <td>杉並倉庫</td>\n      <td>35</td>\n      <td>関東</td>\n    </tr>\n  </tbody>\n</table>\n<p>2000 rows × 10 columns</p>\n</div>"
     },
     "metadata": {},
     "execution_count": 29
    }
   ],
   "source": [
    "kanto = join_data.loc[join_data['WHRegion'] ==  '関東']\n",
    "kanto"
   ]
  },
  {
   "cell_type": "code",
   "execution_count": 30,
   "metadata": {},
   "outputs": [
    {
     "output_type": "execute_result",
     "data": {
      "text/plain": "          TransactionDate  Quantity  Cost     ToFC FCName  FCDemand   FromWH  \\\n1     2019-01-01 06:12:42        19   1.3  FC00007   那須工場        25  WH00006   \n2     2019-01-01 06:32:32        31   0.9  FC00006   山形工場        30  WH00004   \n5     2019-01-01 08:56:09        31   0.3  FC00005   仙台工場        21  WH00005   \n6     2019-01-01 09:00:15        33   0.7  FC00006   山形工場        30  WH00006   \n9     2019-01-01 14:12:51        21   0.7  FC00006   山形工場        30  WH00006   \n...                   ...       ...   ...      ...    ...       ...      ...   \n3993  2019-12-31 03:35:04        20   0.7  FC00006   山形工場        30  WH00006   \n3994  2019-12-31 07:05:56        11   0.8  FC00005   仙台工場        21  WH00004   \n3995  2019-12-31 11:27:51        29   1.3  FC00007   那須工場        25  WH00006   \n3998  2019-12-31 21:45:07        34   0.3  FC00005   仙台工場        21  WH00005   \n3999  2019-12-31 23:19:37        16   0.3  FC00005   仙台工場        21  WH00005   \n\n     WHName  WHSupply WHRegion  \n1      山形倉庫        65       東北  \n2      郡山倉庫        60       東北  \n5      仙台倉庫        72       東北  \n6      山形倉庫        65       東北  \n9      山形倉庫        65       東北  \n...     ...       ...      ...  \n3993   山形倉庫        65       東北  \n3994   郡山倉庫        60       東北  \n3995   山形倉庫        65       東北  \n3998   仙台倉庫        72       東北  \n3999   仙台倉庫        72       東北  \n\n[2000 rows x 10 columns]",
      "text/html": "<div>\n<style scoped>\n    .dataframe tbody tr th:only-of-type {\n        vertical-align: middle;\n    }\n\n    .dataframe tbody tr th {\n        vertical-align: top;\n    }\n\n    .dataframe thead th {\n        text-align: right;\n    }\n</style>\n<table border=\"1\" class=\"dataframe\">\n  <thead>\n    <tr style=\"text-align: right;\">\n      <th></th>\n      <th>TransactionDate</th>\n      <th>Quantity</th>\n      <th>Cost</th>\n      <th>ToFC</th>\n      <th>FCName</th>\n      <th>FCDemand</th>\n      <th>FromWH</th>\n      <th>WHName</th>\n      <th>WHSupply</th>\n      <th>WHRegion</th>\n    </tr>\n  </thead>\n  <tbody>\n    <tr>\n      <th>1</th>\n      <td>2019-01-01 06:12:42</td>\n      <td>19</td>\n      <td>1.3</td>\n      <td>FC00007</td>\n      <td>那須工場</td>\n      <td>25</td>\n      <td>WH00006</td>\n      <td>山形倉庫</td>\n      <td>65</td>\n      <td>東北</td>\n    </tr>\n    <tr>\n      <th>2</th>\n      <td>2019-01-01 06:32:32</td>\n      <td>31</td>\n      <td>0.9</td>\n      <td>FC00006</td>\n      <td>山形工場</td>\n      <td>30</td>\n      <td>WH00004</td>\n      <td>郡山倉庫</td>\n      <td>60</td>\n      <td>東北</td>\n    </tr>\n    <tr>\n      <th>5</th>\n      <td>2019-01-01 08:56:09</td>\n      <td>31</td>\n      <td>0.3</td>\n      <td>FC00005</td>\n      <td>仙台工場</td>\n      <td>21</td>\n      <td>WH00005</td>\n      <td>仙台倉庫</td>\n      <td>72</td>\n      <td>東北</td>\n    </tr>\n    <tr>\n      <th>6</th>\n      <td>2019-01-01 09:00:15</td>\n      <td>33</td>\n      <td>0.7</td>\n      <td>FC00006</td>\n      <td>山形工場</td>\n      <td>30</td>\n      <td>WH00006</td>\n      <td>山形倉庫</td>\n      <td>65</td>\n      <td>東北</td>\n    </tr>\n    <tr>\n      <th>9</th>\n      <td>2019-01-01 14:12:51</td>\n      <td>21</td>\n      <td>0.7</td>\n      <td>FC00006</td>\n      <td>山形工場</td>\n      <td>30</td>\n      <td>WH00006</td>\n      <td>山形倉庫</td>\n      <td>65</td>\n      <td>東北</td>\n    </tr>\n    <tr>\n      <th>...</th>\n      <td>...</td>\n      <td>...</td>\n      <td>...</td>\n      <td>...</td>\n      <td>...</td>\n      <td>...</td>\n      <td>...</td>\n      <td>...</td>\n      <td>...</td>\n      <td>...</td>\n    </tr>\n    <tr>\n      <th>3993</th>\n      <td>2019-12-31 03:35:04</td>\n      <td>20</td>\n      <td>0.7</td>\n      <td>FC00006</td>\n      <td>山形工場</td>\n      <td>30</td>\n      <td>WH00006</td>\n      <td>山形倉庫</td>\n      <td>65</td>\n      <td>東北</td>\n    </tr>\n    <tr>\n      <th>3994</th>\n      <td>2019-12-31 07:05:56</td>\n      <td>11</td>\n      <td>0.8</td>\n      <td>FC00005</td>\n      <td>仙台工場</td>\n      <td>21</td>\n      <td>WH00004</td>\n      <td>郡山倉庫</td>\n      <td>60</td>\n      <td>東北</td>\n    </tr>\n    <tr>\n      <th>3995</th>\n      <td>2019-12-31 11:27:51</td>\n      <td>29</td>\n      <td>1.3</td>\n      <td>FC00007</td>\n      <td>那須工場</td>\n      <td>25</td>\n      <td>WH00006</td>\n      <td>山形倉庫</td>\n      <td>65</td>\n      <td>東北</td>\n    </tr>\n    <tr>\n      <th>3998</th>\n      <td>2019-12-31 21:45:07</td>\n      <td>34</td>\n      <td>0.3</td>\n      <td>FC00005</td>\n      <td>仙台工場</td>\n      <td>21</td>\n      <td>WH00005</td>\n      <td>仙台倉庫</td>\n      <td>72</td>\n      <td>東北</td>\n    </tr>\n    <tr>\n      <th>3999</th>\n      <td>2019-12-31 23:19:37</td>\n      <td>16</td>\n      <td>0.3</td>\n      <td>FC00005</td>\n      <td>仙台工場</td>\n      <td>21</td>\n      <td>WH00005</td>\n      <td>仙台倉庫</td>\n      <td>72</td>\n      <td>東北</td>\n    </tr>\n  </tbody>\n</table>\n<p>2000 rows × 10 columns</p>\n</div>"
     },
     "metadata": {},
     "execution_count": 30
    }
   ],
   "source": [
    "tohoku = join_data.loc[join_data['WHRegion'] == '東北']\n",
    "tohoku"
   ]
  },
  {
   "cell_type": "markdown",
   "metadata": {},
   "source": [
    "### ノック５２：現状の輸送量、コストを確認してみよう"
   ]
  },
  {
   "cell_type": "code",
   "execution_count": 37,
   "metadata": {
    "tags": []
   },
   "outputs": [
    {
     "output_type": "stream",
     "name": "stdout",
     "text": "関東支社の総コスト: 2189.3万円\n東北支社の総コスト: 2062.0万円\n"
    }
   ],
   "source": [
    "print(f'関東支社の総コスト: {kanto[\"Cost\"].sum()}万円')\n",
    "print(f'東北支社の総コスト: {tohoku[\"Cost\"].sum()}万円')"
   ]
  },
  {
   "cell_type": "code",
   "execution_count": 42,
   "metadata": {
    "tags": []
   },
   "outputs": [
    {
     "output_type": "stream",
     "name": "stdout",
     "text": "関東支社の部品一つ当たりの輸送コスト: 445円\n東北支社の部品一つ当たりの輸送コスト: 410円\n"
    }
   ],
   "source": [
    "print(f'関東支社の部品一つ当たりの輸送コスト: {int((kanto[\"Cost\"].sum() / kanto[\"Quantity\"].sum()) * 10000)}円')\n",
    "print(f'東北支社の部品一つ当たりの輸送コスト: {int((tohoku[\"Cost\"].sum() / tohoku[\"Quantity\"].sum()) * 10000)}円')"
   ]
  },
  {
   "cell_type": "code",
   "execution_count": 46,
   "metadata": {
    "tags": []
   },
   "outputs": [
    {
     "output_type": "stream",
     "name": "stdout",
     "text": "関東支社の平均輸送コスト: 1.075万円\n東北支社の平均輸送コスト: 1.05万円\n"
    }
   ],
   "source": [
    "cost_chk = pd.merge(cost, factories, on='FCID', how='left')\n",
    "print(f'関東支社の平均輸送コスト: {cost_chk.loc[cost_chk[\"FCRegion\"] == \"関東\"][\"Cost\"].mean()}万円')\n",
    "print(f'東北支社の平均輸送コスト: {cost_chk.loc[cost_chk[\"FCRegion\"] == \"東北\"][\"Cost\"].mean()}万円')"
   ]
  },
  {
   "cell_type": "code",
   "execution_count": null,
   "metadata": {},
   "outputs": [],
   "source": []
  },
  {
   "cell_type": "markdown",
   "metadata": {},
   "source": [
    "### ノック５３：ネットワークを可視化してみよう"
   ]
  },
  {
   "cell_type": "code",
   "execution_count": null,
   "metadata": {},
   "outputs": [],
   "source": []
  },
  {
   "cell_type": "markdown",
   "metadata": {},
   "source": [
    "### ノック５４：ネットワークにノードを追加してみよう"
   ]
  },
  {
   "cell_type": "code",
   "execution_count": null,
   "metadata": {
    "scrolled": true
   },
   "outputs": [],
   "source": []
  },
  {
   "cell_type": "markdown",
   "metadata": {},
   "source": [
    "### ノック５５：ルートの重みづけを実施しよう"
   ]
  },
  {
   "cell_type": "code",
   "execution_count": null,
   "metadata": {},
   "outputs": [],
   "source": []
  },
  {
   "cell_type": "markdown",
   "metadata": {},
   "source": [
    "### ノック５６：輸送ルート情報を読み込んでみよう"
   ]
  },
  {
   "cell_type": "code",
   "execution_count": null,
   "metadata": {},
   "outputs": [],
   "source": []
  },
  {
   "cell_type": "markdown",
   "metadata": {},
   "source": [
    "### ノック５７：輸送ルート情報からネットワークを可視化してみよう"
   ]
  },
  {
   "cell_type": "code",
   "execution_count": null,
   "metadata": {},
   "outputs": [],
   "source": []
  },
  {
   "cell_type": "markdown",
   "metadata": {},
   "source": [
    "### ノック５８：輸送コスト関数を作成しよう"
   ]
  },
  {
   "cell_type": "code",
   "execution_count": null,
   "metadata": {},
   "outputs": [],
   "source": []
  },
  {
   "cell_type": "markdown",
   "metadata": {},
   "source": [
    "### ノック５９：制約条件を作ってみよう"
   ]
  },
  {
   "cell_type": "code",
   "execution_count": null,
   "metadata": {},
   "outputs": [],
   "source": []
  },
  {
   "cell_type": "markdown",
   "metadata": {},
   "source": [
    "### ノック６０：輸送ルートを変更して、輸送コスト関数の変化を確認しよう"
   ]
  },
  {
   "cell_type": "code",
   "execution_count": null,
   "metadata": {},
   "outputs": [],
   "source": []
  },
  {
   "cell_type": "code",
   "execution_count": null,
   "metadata": {},
   "outputs": [],
   "source": []
  }
 ],
 "metadata": {
  "kernelspec": {
   "display_name": "Python 3",
   "language": "python",
   "name": "python3"
  },
  "language_info": {
   "codemirror_mode": {
    "name": "ipython",
    "version": 3
   },
   "file_extension": ".py",
   "mimetype": "text/x-python",
   "name": "python",
   "nbconvert_exporter": "python",
   "pygments_lexer": "ipython3",
   "version": "3.6.4"
  }
 },
 "nbformat": 4,
 "nbformat_minor": 2
}